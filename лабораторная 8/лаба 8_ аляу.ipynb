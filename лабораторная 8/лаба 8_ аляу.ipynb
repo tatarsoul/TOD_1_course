{
 "cells": [
  {
   "cell_type": "markdown",
   "metadata": {
    "id": "LvSA0dRrZDSr"
   },
   "source": [
    "## Оптимизация выполнения кода, векторизация, Numba"
   ]
  },
  {
   "cell_type": "markdown",
   "metadata": {
    "id": "6StpA7_SZDSs"
   },
   "source": [
    "Материалы:\n",
    "* Макрушин С.В. Лекция 3: Оптимизация выполнения кода, векторизация, Numba\n",
    "* IPython Cookbook, Second Edition (2018), глава 4\n",
    "* https://numba.pydata.org/numba-doc/latest/user/5minguide.html"
   ]
  },
  {
   "cell_type": "markdown",
   "metadata": {
    "id": "YtvMhrRxZDSt"
   },
   "source": [
    "## Задачи для совместного разбора"
   ]
  },
  {
   "cell_type": "code",
   "execution_count": 2,
   "metadata": {
    "colab": {
     "base_uri": "https://localhost:8080/"
    },
    "id": "fwff6RpVtMsG",
    "outputId": "5be72c87-db85-4e7f-9e2d-ffb5f4d573d9"
   },
   "outputs": [],
   "source": [
    "%load_ext line_profiler"
   ]
  },
  {
   "cell_type": "markdown",
   "metadata": {
    "id": "44YT6wrNZDSt"
   },
   "source": [
    "1. Сгенерируйте массив `A` из `N=1млн` случайных целых чисел на отрезке от 0 до 1000. Пусть `B[i] = A[i] + 100`. Посчитайте среднее значение массива `B`."
   ]
  },
  {
   "cell_type": "code",
   "execution_count": 3,
   "metadata": {},
   "outputs": [],
   "source": [
    "import numpy as np\n",
    "import numba"
   ]
  },
  {
   "cell_type": "code",
   "execution_count": 4,
   "metadata": {
    "colab": {
     "base_uri": "https://localhost:8080/"
    },
    "id": "-40dPhBKqu1t",
    "outputId": "17fa3010-abb1-41e8-9b95-44b2e3a470c5"
   },
   "outputs": [
    {
     "data": {
      "text/plain": [
       "array([426, 308, 539, ..., 275, 295, 729])"
      ]
     },
     "execution_count": 4,
     "metadata": {},
     "output_type": "execute_result"
    }
   ],
   "source": [
    "A = np.random.randint(0,1000, size=(1000000,))\n",
    "A"
   ]
  },
  {
   "cell_type": "code",
   "execution_count": 8,
   "metadata": {
    "colab": {
     "base_uri": "https://localhost:8080/"
    },
    "id": "Ffa44VDds_nH",
    "outputId": "828cb3ca-e910-4e30-9cac-d6559bbe545f"
   },
   "outputs": [
    {
     "name": "stdout",
     "output_type": "stream",
     "text": [
      "625 ms ± 14 ms per loop (mean ± std. dev. of 7 runs, 1 loop each)\n"
     ]
    }
   ],
   "source": [
    "def f1(A):\n",
    "    acc, cnt = 0,0\n",
    "    for ai in A:\n",
    "        bi = ai +100\n",
    "        acc += bi\n",
    "        cnt += 1\n",
    "    return acc/ cnt\n",
    "%timeit f1(A)"
   ]
  },
  {
   "cell_type": "code",
   "execution_count": 9,
   "metadata": {
    "id": "AVDgbUh6tLZC"
   },
   "outputs": [
    {
     "name": "stdout",
     "output_type": "stream",
     "text": [
      "578 ms ± 23.9 ms per loop (mean ± std. dev. of 7 runs, 1 loop each)\n"
     ]
    }
   ],
   "source": [
    "def f2(A):\n",
    "    acc = 0\n",
    "    for ai in A:\n",
    "        bi = ai +100\n",
    "        acc += bi\n",
    "    return acc / len(A)\n",
    "%timeit f2(A)"
   ]
  },
  {
   "cell_type": "code",
   "execution_count": 10,
   "metadata": {},
   "outputs": [
    {
     "name": "stdout",
     "output_type": "stream",
     "text": [
      "572 ms ± 14.2 ms per loop (mean ± std. dev. of 7 runs, 1 loop each)\n"
     ]
    }
   ],
   "source": [
    "def f3(A):\n",
    "    return A.mean()+100\n",
    "%timeit f2(A)"
   ]
  },
  {
   "cell_type": "code",
   "execution_count": 11,
   "metadata": {},
   "outputs": [
    {
     "name": "stdout",
     "output_type": "stream",
     "text": [
      "1.08 ms ± 8.99 µs per loop (mean ± std. dev. of 7 runs, 1 loop each)\n"
     ]
    }
   ],
   "source": [
    "@numba.njit\n",
    "def f5(A):\n",
    "    acc, cnt = 0,0\n",
    "    for ai in A:\n",
    "        bi = ai +100\n",
    "        acc += bi\n",
    "        cnt += 1\n",
    "    return acc/cnt\n",
    "%timeit f5(A)"
   ]
  },
  {
   "cell_type": "code",
   "execution_count": null,
   "metadata": {},
   "outputs": [],
   "source": []
  },
  {
   "cell_type": "markdown",
   "metadata": {
    "id": "XolGEcX9ZDSt"
   },
   "source": [
    "2. Создайте таблицу 2млн строк и с 4 столбцами, заполненными случайными числами. Добавьте столбец `key`, которые содержит элементы из множества английских букв. Выберите из таблицы подмножество строк, для которых в столбце `key` указаны первые 5 английских букв."
   ]
  },
  {
   "cell_type": "code",
   "execution_count": 12,
   "metadata": {
    "id": "D2K2UH3JZG0j"
   },
   "outputs": [],
   "source": [
    "import numpy as np\n",
    "import pandas as pd\n",
    "\n",
    "df = pd.DataFrame(np.random.randint(0, 1000, size=(2_000_000, 4)),\n",
    "                  columns=['col1', 'col2', 'col3', 'col4'])\n",
    "letters = ['a', 'b', 'c', 'd', 'e', 'f', 'g']\n",
    "df['key'] = np.random.choice(letters, 2_000_000, replace=True)\n",
    "\n",
    "def g(df):\n",
    "    letters = ['a', 'b', 'c', 'd', 'e']\n",
    "    dfs = []\n",
    "    for letter in letters:\n",
    "        q = df[df['key']==letter]\n",
    "        dfs.append(q)\n",
    "    return pd.concat(dfs, axis=0)\n",
    "\n",
    "\n",
    "def g_optimize(df):\n",
    "    return df[df[\"key\"].str.contains(\"a|b|c|d|e\")]\n",
    "\n",
    "def g_optimize_v2(df):\n",
    "    return df[df[\"key\"].isin(('a', 'b', 'c', 'd', 'e', 'f', 'g'))]"
   ]
  },
  {
   "cell_type": "code",
   "execution_count": 40,
   "metadata": {
    "id": "T913sLG4sVyM"
   },
   "outputs": [
    {
     "name": "stdout",
     "output_type": "stream",
     "text": [
      "         col1      col2   col3 col4 key\n",
      "3          43  0.082364  False    B   C\n",
      "7          77  0.248854  False    D   B\n",
      "12         86  0.419805  False    D   C\n",
      "21         63  0.015310   True    A   B\n",
      "51         68  0.159927   True    A   B\n",
      "...       ...       ...    ...  ...  ..\n",
      "1999975    10  0.317377  False    D   E\n",
      "1999983    64  0.736150   True    D   B\n",
      "1999985    60  0.940648  False    C   C\n",
      "1999988     2  0.105155  False    D   B\n",
      "1999993    12  0.172362   True    C   B\n",
      "\n",
      "[383464 rows x 5 columns]\n"
     ]
    }
   ],
   "source": [
    "import pandas as pd\n",
    "import random\n",
    "import string\n",
    "\n",
    "N = 2000000\n",
    "data = {'col1': [random.randint(0, 100) for i in range(N)],\n",
    "        'col2': [random.uniform(0, 1) for i in range(N)],\n",
    "        'col3': [random.choice([True, False]) for i in range(N)],\n",
    "        'col4': [random.choice(['A', 'B', 'C', 'D']) for i in range(N)]}\n",
    "\n",
    "df = pd.DataFrame(data)\n",
    "\n",
    "keys = ''.join(random.choice(string.ascii_uppercase) for _ in range(N))\n",
    "df['key'] = list(keys)\n",
    "\n",
    "subset = df[df['key'].str[:5].isin(list(string.ascii_uppercase)[:5])]\n",
    "\n",
    "print(subset)"
   ]
  },
  {
   "cell_type": "code",
   "execution_count": 13,
   "metadata": {},
   "outputs": [
    {
     "name": "stdout",
     "output_type": "stream",
     "text": [
      "1.06 s ± 26.7 ms per loop (mean ± std. dev. of 7 runs, 1 loop each)\n"
     ]
    }
   ],
   "source": [
    "%timeit g(df)"
   ]
  },
  {
   "cell_type": "code",
   "execution_count": 14,
   "metadata": {
    "id": "-hzc8bHwseDL"
   },
   "outputs": [
    {
     "name": "stdout",
     "output_type": "stream",
     "text": [
      "1.68 s ± 22.7 ms per loop (mean ± std. dev. of 7 runs, 1 loop each)\n"
     ]
    }
   ],
   "source": [
    "%timeit g_optimize(df)"
   ]
  },
  {
   "cell_type": "code",
   "execution_count": null,
   "metadata": {},
   "outputs": [],
   "source": [
    "%timeit g_optimize_v2(df)\n"
   ]
  },
  {
   "cell_type": "markdown",
   "metadata": {
    "id": "VASN6klRZDSu"
   },
   "source": [
    "## Лабораторная работа 3"
   ]
  },
  {
   "cell_type": "code",
   "execution_count": 34,
   "metadata": {
    "colab": {
     "base_uri": "https://localhost:8080/"
    },
    "id": "70arTwbWZDSu",
    "outputId": "be7350c8-cbd4-4c78-a656-8714ea772403"
   },
   "outputs": [
    {
     "name": "stdout",
     "output_type": "stream",
     "text": [
      "Collecting line_profiler\n",
      "  Downloading line_profiler-4.0.3-cp39-cp39-win_amd64.whl (83 kB)\n",
      "Installing collected packages: line-profiler\n",
      "Successfully installed line-profiler-4.0.3\n"
     ]
    }
   ],
   "source": [
    "!pip install line_profiler"
   ]
  },
  {
   "cell_type": "markdown",
   "metadata": {
    "id": "JvFsWa9rZDSu"
   },
   "source": [
    "1. В файлах `recipes_sample.csv` и `reviews_sample.csv` (__ЛР 2__) находится информация об рецептах блюд и отзывах на эти рецепты соответственно. Загрузите данные из файлов в виде `pd.DataFrame` с названиями `recipes` и `reviews`. Обратите внимание на корректное считывание столбца(ов) с индексами. Приведите столбцы к нужным типам.\n",
    "\n",
    "Реализуйте несколько вариантов функции подсчета среднего значения столбца `rating` из таблицы `reviews` для отзывов, оставленных в 2010 году.\n",
    "\n",
    "A. С использованием метода `DataFrame.iterrows` исходной таблицы;\n",
    "\n",
    "Б. С использованием метода `DataFrame.iterrows` таблицы, в которой сохранены только отзывы за 2010 год;\n",
    "\n",
    "В. С использованием метода `Series.mean`.\n",
    "\n",
    "Проверьте, что результаты работы всех написанных функций корректны и совпадают. Измерьте выполнения всех написанных функций.\n"
   ]
  },
  {
   "cell_type": "code",
   "execution_count": 16,
   "metadata": {
    "id": "xVEmPC68_TN8"
   },
   "outputs": [],
   "source": [
    "import pandas as pd\n",
    "import time\n",
    "import numpy as np \n",
    "from numba import jit,njit\n"
   ]
  },
  {
   "cell_type": "code",
   "execution_count": 17,
   "metadata": {
    "id": "fNIp36hiAi74"
   },
   "outputs": [],
   "source": [
    "recipes = pd.read_csv(\"recipes_sample.csv\", sep=\",\", parse_dates=['submitted'])\n",
    "recipes = recipes.set_index('id')\n",
    "\n",
    "reviews = pd.read_csv(\"reviews_sample.csv\", sep=\",\",parse_dates=['date'])\n",
    "reviews.rename(columns={'Unnamed: 0': 'id'}, inplace=True)\n",
    "reviews = reviews.set_index('id')"
   ]
  },
  {
   "cell_type": "code",
   "execution_count": 18,
   "metadata": {
    "id": "RClAbWy9_TVu"
   },
   "outputs": [],
   "source": [
    "reviews['date'] = pd.to_datetime(reviews['date'])\n",
    "reviews['rating'] = reviews['rating'].astype(float)"
   ]
  },
  {
   "cell_type": "code",
   "execution_count": 21,
   "metadata": {
    "colab": {
     "base_uri": "https://localhost:8080/"
    },
    "id": "X367RwYV_TbV",
    "outputId": "b46a8d3c-c975-4239-9d53-9873d0bd7b69"
   },
   "outputs": [
    {
     "data": {
      "text/plain": [
       "4.4544402182900615"
      ]
     },
     "execution_count": 21,
     "metadata": {},
     "output_type": "execute_result"
    }
   ],
   "source": [
    "def f1_test():\n",
    "    counter = 0\n",
    "    values = 0\n",
    "    for index, row in reviews.iterrows():\n",
    "        if row[\"date\"].year == 2010:\n",
    "            values += row[\"rating\"]\n",
    "            counter += 1\n",
    "\n",
    "    return values/counter\n",
    "\n",
    "result1 = f1_test()\n",
    "result1"
   ]
  },
  {
   "cell_type": "code",
   "execution_count": 22,
   "metadata": {},
   "outputs": [
    {
     "name": "stdout",
     "output_type": "stream",
     "text": [
      "8.45 s ± 118 ms per loop (mean ± std. dev. of 7 runs, 1 loop each)\n"
     ]
    }
   ],
   "source": [
    "%timeit f1_test()"
   ]
  },
  {
   "cell_type": "code",
   "execution_count": 23,
   "metadata": {
    "colab": {
     "base_uri": "https://localhost:8080/"
    },
    "id": "XWpQl61v_Tev",
    "outputId": "0923e50d-46c6-4ed6-e9bb-4d99d24d5ac2"
   },
   "outputs": [
    {
     "data": {
      "text/plain": [
       "4.4544402182900615"
      ]
     },
     "execution_count": 23,
     "metadata": {},
     "output_type": "execute_result"
    }
   ],
   "source": [
    "def f2_test():\n",
    "    counter = 0\n",
    "    values = 0\n",
    "    selected_year_df = reviews[reviews['date'].dt.year == 2010]\n",
    "    for index, row in selected_year_df.iterrows():\n",
    "        values += row[\"rating\"]\n",
    "        counter += 1\n",
    "\n",
    "    return values/counter\n",
    "    \n",
    "result2 = f2_test()\n",
    "result2"
   ]
  },
  {
   "cell_type": "code",
   "execution_count": 24,
   "metadata": {},
   "outputs": [
    {
     "name": "stdout",
     "output_type": "stream",
     "text": [
      "828 ms ± 16.1 ms per loop (mean ± std. dev. of 7 runs, 1 loop each)\n"
     ]
    }
   ],
   "source": [
    "%timeit f2_test()"
   ]
  },
  {
   "cell_type": "code",
   "execution_count": 25,
   "metadata": {
    "colab": {
     "base_uri": "https://localhost:8080/"
    },
    "id": "OhV5cZZN_Thv",
    "outputId": "8214ccf1-1977-4957-c688-c0b1be4023cb"
   },
   "outputs": [
    {
     "data": {
      "text/plain": [
       "4.4544402182900615"
      ]
     },
     "execution_count": 25,
     "metadata": {},
     "output_type": "execute_result"
    }
   ],
   "source": [
    "def f3_test():\n",
    "    selected_year_df = reviews['date'].dt.year == 2010\n",
    "    return reviews.loc[selected_year_df, 'rating'].mean()\n",
    "\n",
    "result3 = f3_test()\n",
    "result3"
   ]
  },
  {
   "cell_type": "code",
   "execution_count": 26,
   "metadata": {},
   "outputs": [
    {
     "name": "stdout",
     "output_type": "stream",
     "text": [
      "14.4 ms ± 91.4 µs per loop (mean ± std. dev. of 7 runs, 100 loops each)\n"
     ]
    }
   ],
   "source": [
    "%timeit f3_test()"
   ]
  },
  {
   "cell_type": "code",
   "execution_count": null,
   "metadata": {
    "id": "39FKQ0csZHsC"
   },
   "outputs": [],
   "source": [
    "%lprun -f f1_test f1_test()"
   ]
  },
  {
   "cell_type": "code",
   "execution_count": null,
   "metadata": {
    "id": "XwT496u8_TkP"
   },
   "outputs": [],
   "source": [
    "%lprun -f f2_test f2_test()"
   ]
  },
  {
   "cell_type": "code",
   "execution_count": null,
   "metadata": {
    "id": "tqY-UdRyZIg1"
   },
   "outputs": [],
   "source": [
    "%lprun -f f3_test f3_test()"
   ]
  },
  {
   "cell_type": "code",
   "execution_count": 28,
   "metadata": {},
   "outputs": [],
   "source": [
    "import numpy as np\n",
    "def f4_test():\n",
    "    \n",
    "    data = np.matrix((reviews[\"rating\"], reviews[\"date\"].dt.year), dtype=int)\n",
    "    #Маска\n",
    "    mask = data[1,] == 2010\n",
    "    #Применяем элементы для маски\n",
    "    faster_values = np.where(mask, data, 0)\n",
    "    #Получаем результат\n",
    "    return faster_values[0,].sum() / mask.sum()"
   ]
  },
  {
   "cell_type": "code",
   "execution_count": 29,
   "metadata": {},
   "outputs": [
    {
     "data": {
      "text/plain": [
       "4.4544402182900615"
      ]
     },
     "execution_count": 29,
     "metadata": {},
     "output_type": "execute_result"
    }
   ],
   "source": [
    "f4_test()"
   ]
  },
  {
   "cell_type": "code",
   "execution_count": 30,
   "metadata": {},
   "outputs": [
    {
     "name": "stdout",
     "output_type": "stream",
     "text": [
      "14.3 ms ± 73.8 µs per loop (mean ± std. dev. of 7 runs, 100 loops each)\n"
     ]
    }
   ],
   "source": [
    "%timeit f4_test()"
   ]
  },
  {
   "cell_type": "markdown",
   "metadata": {
    "id": "EKKgtEySZDSv"
   },
   "source": [
    "3. Вам предлагается воспользоваться функцией, которая собирает статистику о том, сколько отзывов содержат то или иное слово. Измерьте время выполнения этой функции. Сможете ли вы найти узкие места в коде, используя профайлер? Выпишите (словами), что в имеющемся коде реализовано неоптимально. Оптимизируйте функцию и добейтесь значительного (как минимум, на один порядок) прироста в скорости выполнения."
   ]
  },
  {
   "cell_type": "code",
   "execution_count": 31,
   "metadata": {
    "colab": {
     "base_uri": "https://localhost:8080/"
    },
    "id": "QCwVcztGZDSv",
    "outputId": "8007b89b-3a66-404f-82e8-9434d570da86"
   },
   "outputs": [],
   "source": [
    "def get_word_reviews_count(df):\n",
    "    \n",
    "    word_reviews = {}\n",
    "    \n",
    "    #Удаляем нулевые и проходим идерацией\n",
    "    for _, row in df.dropna(subset=['review']).iterrows():\n",
    "        recipe_id, review = row['recipe_id'], row['review']\n",
    "        #Делаем разделение по словами \n",
    "        words = review.split(' ')\n",
    "        #По каждому слову начинаем цикл\n",
    "        for word in words:\n",
    "            #Если слово не в словаре, то заносим его\n",
    "            if word not in word_reviews:\n",
    "                word_reviews[word] = []\n",
    "            \n",
    "            #Добавляем рецепт по этому слову\n",
    "            word_reviews[word].append(recipe_id)\n",
    "    \n",
    "    \n",
    "    word_reviews_count = {}\n",
    "    #Удаляем нулевые и проходим идерацией еще разок\n",
    "    for _, row in df.dropna(subset=['review']).iterrows():\n",
    "        review = row['review']\n",
    "        words = review.split(' ')\n",
    "        # Проходим по каждому слову\n",
    "        for word in words:\n",
    "            #Заносим кол-во отзывов через len \n",
    "            word_reviews_count[word] = len(word_reviews[word])\n",
    "    return word_reviews_count"
   ]
  },
  {
   "cell_type": "code",
   "execution_count": 32,
   "metadata": {
    "colab": {
     "base_uri": "https://localhost:8080/"
    },
    "id": "hG2ZdBM-qNMp",
    "outputId": "ae82fd32-1522-4d97-8552-0b5370953c4c"
   },
   "outputs": [],
   "source": [
    "def get_word_reviews_count_optimized(df):\n",
    "    \n",
    "    word_reviews = {}\n",
    "    \n",
    "    #Удаляем нулевые и проходим идерацией\n",
    "    for _, row in df.dropna(subset=['review']).iterrows():\n",
    "\n",
    "        #По каждому слову начинаем цикл\n",
    "        for word in row['review'].split(' '):\n",
    "            #Если слово не в словаре, то заносим его\n",
    "            if word not in word_reviews:\n",
    "                word_reviews[word] = 0\n",
    "            #Добавляем рецепт по этому слову\n",
    "            word_reviews[word] += 1\n",
    "    \n",
    "    return word_reviews"
   ]
  },
  {
   "cell_type": "markdown",
   "metadata": {
    "id": "S9vUSvDJZDSw"
   },
   "source": [
    "4. Напишите несколько версий функции `MAPE` (см. [MAPE](https://en.wikipedia.org/wiki/Mean_absolute_percentage_error)) для расчета среднего абсолютного процентного отклонения значения рейтинга отзыва на рецепт от среднего значения рейтинга по всем отзывам для этого рецепта. \n",
    "    1. Без использования векторизованных операций и методов массивов `numpy` и без использования `numba`\n",
    "    2. Без использования векторизованных операций и методов массивов `numpy`, но с использованием `numba`\n",
    "    3. С использованием векторизованных операций и методов массивов `numpy`, но без использования `numba`\n",
    "    4. C использованием векторизованных операций и методов массивов `numpy` и `numba`\n",
    "    \n",
    "Измерьте время выполнения каждой из реализаций.\n",
    "\n",
    "Замечание: удалите из выборки отзывы с нулевым рейтингом.\n"
   ]
  },
  {
   "cell_type": "code",
   "execution_count": 33,
   "metadata": {
    "id": "XrkuRoiGZDSw"
   },
   "outputs": [],
   "source": [
    "buffer = reviews[['recipe_id', 'rating']].dropna()\n",
    "mask = buffer['rating'] != 0\n",
    "buffer = buffer[mask].groupby(buffer['recipe_id'])['rating']"
   ]
  },
  {
   "cell_type": "code",
   "execution_count": 34,
   "metadata": {},
   "outputs": [],
   "source": [
    "def executor(series_data, function):\n",
    "    \"\"\"Метод для вызова функции c аргументами\"\"\"\n",
    "    return function(series_data.to_numpy(), series_data.mean())"
   ]
  },
  {
   "cell_type": "code",
   "execution_count": 35,
   "metadata": {},
   "outputs": [],
   "source": [
    "def MAPE_FIRST(A, F):\n",
    "    results_list = [abs(i - F) / i for i in A]\n",
    "    return 100/len(A) * sum(results_list)\n",
    "\n",
    "#Конвертация dataframe в series\n",
    "result1 = buffer.agg(executor, MAPE_FIRST)"
   ]
  },
  {
   "cell_type": "code",
   "execution_count": 36,
   "metadata": {},
   "outputs": [
    {
     "name": "stdout",
     "output_type": "stream",
     "text": [
      "3.2 s ± 27.2 ms per loop (mean ± std. dev. of 7 runs, 1 loop each)\n"
     ]
    }
   ],
   "source": [
    "%timeit buffer.agg(executor, MAPE_FIRST)"
   ]
  },
  {
   "cell_type": "code",
   "execution_count": 37,
   "metadata": {},
   "outputs": [],
   "source": [
    "@numba.jit(nopython=True)\n",
    "def MAPE_SECOND(A, F):\n",
    "    results_list = [abs(i - F) / i for i in A]\n",
    "    return 100/len(A) * sum(results_list)\n",
    "\n",
    "result2 = buffer.agg(executor, MAPE_SECOND)"
   ]
  },
  {
   "cell_type": "code",
   "execution_count": 38,
   "metadata": {
    "id": "GKEBAnVlESjG"
   },
   "outputs": [
    {
     "name": "stdout",
     "output_type": "stream",
     "text": [
      "2.87 s ± 37.8 ms per loop (mean ± std. dev. of 7 runs, 1 loop each)\n"
     ]
    }
   ],
   "source": [
    "%timeit buffer.agg(executor, MAPE_SECOND)"
   ]
  },
  {
   "cell_type": "code",
   "execution_count": null,
   "metadata": {
    "id": "y0pYt91DESmT"
   },
   "outputs": [],
   "source": []
  },
  {
   "cell_type": "code",
   "execution_count": null,
   "metadata": {},
   "outputs": [],
   "source": []
  }
 ],
 "metadata": {
  "colab": {
   "provenance": []
  },
  "kernelspec": {
   "display_name": "Python 3 (ipykernel)",
   "language": "python",
   "name": "python3"
  },
  "language_info": {
   "codemirror_mode": {
    "name": "ipython",
    "version": 3
   },
   "file_extension": ".py",
   "mimetype": "text/x-python",
   "name": "python",
   "nbconvert_exporter": "python",
   "pygments_lexer": "ipython3",
   "version": "3.9.12"
  }
 },
 "nbformat": 4,
 "nbformat_minor": 1
}
