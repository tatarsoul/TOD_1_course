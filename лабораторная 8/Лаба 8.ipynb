{
 "cells": [
  {
   "cell_type": "markdown",
   "metadata": {
    "id": "LvSA0dRrZDSr"
   },
   "source": [
    "## Оптимизация выполнения кода, векторизация, Numba"
   ]
  },
  {
   "cell_type": "markdown",
   "metadata": {
    "id": "6StpA7_SZDSs"
   },
   "source": [
    "Материалы:\n",
    "* Макрушин С.В. Лекция 3: Оптимизация выполнения кода, векторизация, Numba\n",
    "* IPython Cookbook, Second Edition (2018), глава 4\n",
    "* https://numba.pydata.org/numba-doc/latest/user/5minguide.html"
   ]
  },
  {
   "cell_type": "markdown",
   "metadata": {
    "id": "YtvMhrRxZDSt"
   },
   "source": [
    "## Задачи для совместного разбора"
   ]
  },
  {
   "cell_type": "code",
   "execution_count": 35,
   "metadata": {
    "colab": {
     "base_uri": "https://localhost:8080/"
    },
    "id": "fwff6RpVtMsG",
    "outputId": "5be72c87-db85-4e7f-9e2d-ffb5f4d573d9"
   },
   "outputs": [
    {
     "name": "stdout",
     "output_type": "stream",
     "text": [
      "Requirement already satisfied: line_profiler in c:\\users\\ggvp2\\anaconda3\\lib\\site-packages (4.0.3)\n"
     ]
    }
   ],
   "source": [
    "!pip install line_profiler\n",
    "%load_ext line_profiler\n"
   ]
  },
  {
   "cell_type": "markdown",
   "metadata": {
    "id": "44YT6wrNZDSt"
   },
   "source": [
    "1. Сгенерируйте массив `A` из `N=1млн` случайных целых чисел на отрезке от 0 до 1000. Пусть `B[i] = A[i] + 100`. Посчитайте среднее значение массива `B`."
   ]
  },
  {
   "cell_type": "code",
   "execution_count": 13,
   "metadata": {},
   "outputs": [],
   "source": [
    "import random\n",
    "import math"
   ]
  },
  {
   "cell_type": "code",
   "execution_count": 16,
   "metadata": {
    "colab": {
     "base_uri": "https://localhost:8080/"
    },
    "id": "-40dPhBKqu1t",
    "outputId": "17fa3010-abb1-41e8-9b95-44b2e3a470c5"
   },
   "outputs": [
    {
     "ename": "TypeError",
     "evalue": "sum() takes 0 positional arguments but 1 was given",
     "output_type": "error",
     "traceback": [
      "\u001b[1;31m---------------------------------------------------------------------------\u001b[0m",
      "\u001b[1;31mTypeError\u001b[0m                                 Traceback (most recent call last)",
      "Input \u001b[1;32mIn [16]\u001b[0m, in \u001b[0;36m<cell line: 4>\u001b[1;34m()\u001b[0m\n\u001b[0;32m      2\u001b[0m A \u001b[38;5;241m=\u001b[39m [random\u001b[38;5;241m.\u001b[39mrandint(\u001b[38;5;241m0\u001b[39m, \u001b[38;5;241m1000\u001b[39m) \u001b[38;5;28;01mfor\u001b[39;00m _ \u001b[38;5;129;01min\u001b[39;00m \u001b[38;5;28mrange\u001b[39m(N)]\n\u001b[0;32m      3\u001b[0m B \u001b[38;5;241m=\u001b[39m [a \u001b[38;5;241m+\u001b[39m \u001b[38;5;241m100\u001b[39m \u001b[38;5;28;01mfor\u001b[39;00m a \u001b[38;5;129;01min\u001b[39;00m A]\n\u001b[1;32m----> 4\u001b[0m res\u001b[38;5;241m=\u001b[39m\u001b[38;5;28;43msum\u001b[39;49m\u001b[43m(\u001b[49m\u001b[43mB\u001b[49m\u001b[43m)\u001b[49m \u001b[38;5;241m/\u001b[39m \u001b[38;5;28mlen\u001b[39m(B)\n\u001b[0;32m      5\u001b[0m res\n",
      "\u001b[1;31mTypeError\u001b[0m: sum() takes 0 positional arguments but 1 was given"
     ]
    }
   ],
   "source": [
    "N=1000000\n",
    "A = [random.randint(0, 1000) for _ in range(N)]\n",
    "B = [a + 100 for a in A]\n",
    "res=sum(B) / len(B)\n",
    "res"
   ]
  },
  {
   "cell_type": "code",
   "execution_count": 17,
   "metadata": {
    "colab": {
     "base_uri": "https://localhost:8080/"
    },
    "id": "Ffa44VDds_nH",
    "outputId": "828cb3ca-e910-4e30-9cac-d6559bbe545f"
   },
   "outputs": [
    {
     "data": {
      "text/plain": [
       "599"
      ]
     },
     "execution_count": 17,
     "metadata": {},
     "output_type": "execute_result"
    }
   ],
   "source": [
    "import numpy as np\n",
    "import statistics\n",
    "A = np.random.randint(0,1000, size=(1000000))\n",
    "B=A+100\n",
    "statistics.mean(B)\n"
   ]
  },
  {
   "cell_type": "code",
   "execution_count": 18,
   "metadata": {
    "id": "AVDgbUh6tLZC"
   },
   "outputs": [
    {
     "ename": "TypeError",
     "evalue": "sum() takes 0 positional arguments but 1 was given",
     "output_type": "error",
     "traceback": [
      "\u001b[1;31m---------------------------------------------------------------------------\u001b[0m",
      "\u001b[1;31mTypeError\u001b[0m                                 Traceback (most recent call last)",
      "Input \u001b[1;32mIn [18]\u001b[0m, in \u001b[0;36m<cell line: 6>\u001b[1;34m()\u001b[0m\n\u001b[0;32m      4\u001b[0m \u001b[38;5;28;01mfor\u001b[39;00m a \u001b[38;5;129;01min\u001b[39;00m A:\n\u001b[0;32m      5\u001b[0m     B\u001b[38;5;241m.\u001b[39mappend(a \u001b[38;5;241m+\u001b[39m \u001b[38;5;241m100\u001b[39m)\n\u001b[1;32m----> 6\u001b[0m mean_B \u001b[38;5;241m=\u001b[39m \u001b[38;5;28;43msum\u001b[39;49m\u001b[43m(\u001b[49m\u001b[43mB\u001b[49m\u001b[43m)\u001b[49m\u001b[38;5;241m/\u001b[39m\u001b[38;5;28mlen\u001b[39m(B)\n\u001b[0;32m      7\u001b[0m mean_B\n",
      "\u001b[1;31mTypeError\u001b[0m: sum() takes 0 positional arguments but 1 was given"
     ]
    }
   ],
   "source": [
    "N = 1000000\n",
    "A = [random.randint(0, 1000) for i in range(N)]\n",
    "B = []\n",
    "for a in A:\n",
    "    B.append(a + 100)\n",
    "mean_B = sum(B)/len(B)\n",
    "mean_B"
   ]
  },
  {
   "cell_type": "code",
   "execution_count": null,
   "metadata": {},
   "outputs": [],
   "source": []
  },
  {
   "cell_type": "markdown",
   "metadata": {
    "id": "XolGEcX9ZDSt"
   },
   "source": [
    "2. Создайте таблицу 2млн строк и с 4 столбцами, заполненными случайными числами. Добавьте столбец `key`, которые содержит элементы из множества английских букв. Выберите из таблицы подмножество строк, для которых в столбце `key` указаны первые 5 английских букв."
   ]
  },
  {
   "cell_type": "code",
   "execution_count": 47,
   "metadata": {
    "id": "D2K2UH3JZG0j"
   },
   "outputs": [],
   "source": [
    "import random\n",
    "import string\n",
    "import pandas as pd\n",
    "\n",
    "N = 2000000\n",
    "df = pd.DataFrame({\n",
    "    'col1': [random.randint(0, 1000) for _ in range(N)],\n",
    "    'col2': [random.randint(0, 1000) for _ in range(N)],\n",
    "    'col3': [random.randint(0, 1000) for _ in range(N)],\n",
    "    'col4': [random.randint(0, 1000) for _ in range(N)],\n",
    "})\n",
    "\n",
    "df['key'] = ''.join(random.choice(string.ascii_letters) for _ in range(N))\n",
    "\n",
    "\n"
   ]
  },
  {
   "cell_type": "code",
   "execution_count": 40,
   "metadata": {
    "id": "T913sLG4sVyM"
   },
   "outputs": [
    {
     "name": "stdout",
     "output_type": "stream",
     "text": [
      "         col1      col2   col3 col4 key\n",
      "3          43  0.082364  False    B   C\n",
      "7          77  0.248854  False    D   B\n",
      "12         86  0.419805  False    D   C\n",
      "21         63  0.015310   True    A   B\n",
      "51         68  0.159927   True    A   B\n",
      "...       ...       ...    ...  ...  ..\n",
      "1999975    10  0.317377  False    D   E\n",
      "1999983    64  0.736150   True    D   B\n",
      "1999985    60  0.940648  False    C   C\n",
      "1999988     2  0.105155  False    D   B\n",
      "1999993    12  0.172362   True    C   B\n",
      "\n",
      "[383464 rows x 5 columns]\n"
     ]
    }
   ],
   "source": [
    "import pandas as pd\n",
    "import random\n",
    "import string\n",
    "\n",
    "N = 2000000\n",
    "data = {'col1': [random.randint(0, 100) for i in range(N)],\n",
    "        'col2': [random.uniform(0, 1) for i in range(N)],\n",
    "        'col3': [random.choice([True, False]) for i in range(N)],\n",
    "        'col4': [random.choice(['A', 'B', 'C', 'D']) for i in range(N)]}\n",
    "\n",
    "df = pd.DataFrame(data)\n",
    "\n",
    "keys = ''.join(random.choice(string.ascii_uppercase) for _ in range(N))\n",
    "df['key'] = list(keys)\n",
    "\n",
    "subset = df[df['key'].str[:5].isin(list(string.ascii_uppercase)[:5])]\n",
    "\n",
    "print(subset)"
   ]
  },
  {
   "cell_type": "code",
   "execution_count": null,
   "metadata": {},
   "outputs": [],
   "source": []
  },
  {
   "cell_type": "code",
   "execution_count": 41,
   "metadata": {
    "id": "-hzc8bHwseDL"
   },
   "outputs": [
    {
     "data": {
      "text/html": [
       "<div>\n",
       "<style scoped>\n",
       "    .dataframe tbody tr th:only-of-type {\n",
       "        vertical-align: middle;\n",
       "    }\n",
       "\n",
       "    .dataframe tbody tr th {\n",
       "        vertical-align: top;\n",
       "    }\n",
       "\n",
       "    .dataframe thead th {\n",
       "        text-align: right;\n",
       "    }\n",
       "</style>\n",
       "<table border=\"1\" class=\"dataframe\">\n",
       "  <thead>\n",
       "    <tr style=\"text-align: right;\">\n",
       "      <th></th>\n",
       "      <th>col1</th>\n",
       "      <th>col2</th>\n",
       "      <th>col3</th>\n",
       "      <th>col4</th>\n",
       "      <th>key</th>\n",
       "    </tr>\n",
       "  </thead>\n",
       "  <tbody>\n",
       "  </tbody>\n",
       "</table>\n",
       "</div>"
      ],
      "text/plain": [
       "Empty DataFrame\n",
       "Columns: [col1, col2, col3, col4, key]\n",
       "Index: []"
      ]
     },
     "execution_count": 41,
     "metadata": {},
     "output_type": "execute_result"
    }
   ],
   "source": [
    "import numba\n",
    "\n",
    "\n",
    "\n",
    "def g3(df): # ERROR\n",
    "    res = pd.DataFrame ()\n",
    "    for letter in ['a', 'b', 'c', 'd', 'e']:\n",
    "        res = pd.concat([res, df[df['key']==letter]], axis=0)\n",
    "    return res\n",
    "\n",
    "g3(df)"
   ]
  },
  {
   "cell_type": "markdown",
   "metadata": {
    "id": "VASN6klRZDSu"
   },
   "source": [
    "## Лабораторная работа 3"
   ]
  },
  {
   "cell_type": "code",
   "execution_count": 34,
   "metadata": {
    "colab": {
     "base_uri": "https://localhost:8080/"
    },
    "id": "70arTwbWZDSu",
    "outputId": "be7350c8-cbd4-4c78-a656-8714ea772403"
   },
   "outputs": [
    {
     "name": "stdout",
     "output_type": "stream",
     "text": [
      "Collecting line_profiler\n",
      "  Downloading line_profiler-4.0.3-cp39-cp39-win_amd64.whl (83 kB)\n",
      "Installing collected packages: line-profiler\n",
      "Successfully installed line-profiler-4.0.3\n"
     ]
    }
   ],
   "source": [
    "!pip install line_profiler"
   ]
  },
  {
   "cell_type": "markdown",
   "metadata": {
    "id": "JvFsWa9rZDSu"
   },
   "source": [
    "1. В файлах `recipes_sample.csv` и `reviews_sample.csv` (__ЛР 2__) находится информация об рецептах блюд и отзывах на эти рецепты соответственно. Загрузите данные из файлов в виде `pd.DataFrame` с названиями `recipes` и `reviews`. Обратите внимание на корректное считывание столбца(ов) с индексами. Приведите столбцы к нужным типам.\n",
    "\n",
    "Реализуйте несколько вариантов функции подсчета среднего значения столбца `rating` из таблицы `reviews` для отзывов, оставленных в 2010 году.\n",
    "\n",
    "A. С использованием метода `DataFrame.iterrows` исходной таблицы;\n",
    "\n",
    "Б. С использованием метода `DataFrame.iterrows` таблицы, в которой сохранены только отзывы за 2010 год;\n",
    "\n",
    "В. С использованием метода `Series.mean`.\n",
    "\n",
    "Проверьте, что результаты работы всех написанных функций корректны и совпадают. Измерьте выполнения всех написанных функций.\n"
   ]
  },
  {
   "cell_type": "code",
   "execution_count": 42,
   "metadata": {
    "id": "xVEmPC68_TN8"
   },
   "outputs": [],
   "source": [
    "import pandas as pd\n",
    "import time\n",
    "import numpy as np \n",
    "from numba import jit,njit\n"
   ]
  },
  {
   "cell_type": "code",
   "execution_count": 43,
   "metadata": {
    "id": "fNIp36hiAi74"
   },
   "outputs": [],
   "source": [
    "recipes = pd.read_csv(\"recipes_sample.csv\", sep=\",\", parse_dates=['submitted'])\n",
    "recipes = recipes.set_index('id')\n",
    "\n",
    "reviews = pd.read_csv(\"reviews_sample.csv\", sep=\",\",parse_dates=['date'])\n",
    "reviews.rename(columns={'Unnamed: 0': 'id'}, inplace=True)\n",
    "reviews = reviews.set_index('id')"
   ]
  },
  {
   "cell_type": "code",
   "execution_count": 44,
   "metadata": {
    "id": "RClAbWy9_TVu"
   },
   "outputs": [],
   "source": [
    "reviews['date'] = pd.to_datetime(reviews['date'])\n",
    "reviews['rating'] = reviews['rating'].astype(float)"
   ]
  },
  {
   "cell_type": "code",
   "execution_count": 45,
   "metadata": {
    "colab": {
     "base_uri": "https://localhost:8080/"
    },
    "id": "X367RwYV_TbV",
    "outputId": "b46a8d3c-c975-4239-9d53-9873d0bd7b69"
   },
   "outputs": [
    {
     "name": "stdout",
     "output_type": "stream",
     "text": [
      "CPU times: total: 0 ns\n",
      "Wall time: 0 ns\n"
     ]
    }
   ],
   "source": [
    "# A. С использованием метода DataFrame.iterrows исходной таблицы:\n",
    "\n",
    "def mean_rating_2010a(reviews):\n",
    "    total = 0\n",
    "    count = 0\n",
    "    for index, row in reviews.iterrows():\n",
    "        if row['date'].year == 2010:\n",
    "            total += row['rating']\n",
    "            count += 1\n",
    "    return total/count\n",
    "# mean_rating_2010a(reviews)\n",
    "%time"
   ]
  },
  {
   "cell_type": "code",
   "execution_count": 46,
   "metadata": {
    "colab": {
     "base_uri": "https://localhost:8080/"
    },
    "id": "XWpQl61v_Tev",
    "outputId": "0923e50d-46c6-4ed6-e9bb-4d99d24d5ac2"
   },
   "outputs": [
    {
     "name": "stdout",
     "output_type": "stream",
     "text": [
      "CPU times: total: 0 ns\n",
      "Wall time: 0 ns\n"
     ]
    }
   ],
   "source": [
    "# Б. С использованием метода DataFrame.iterrows таблицы, в которой сохранены только отзывы за 2010 год:\n",
    "\n",
    "def mean_rating_2010b(reviews_2010):\n",
    "    total = 0\n",
    "    count = 0\n",
    "    for index, row in reviews_2010.iterrows():\n",
    "        total += row['rating']\n",
    "        count += 1\n",
    "    return total/count\n",
    "# mean_rating_2010b(reviews)\n",
    "%time"
   ]
  },
  {
   "cell_type": "code",
   "execution_count": 47,
   "metadata": {
    "colab": {
     "base_uri": "https://localhost:8080/"
    },
    "id": "OhV5cZZN_Thv",
    "outputId": "8214ccf1-1977-4957-c688-c0b1be4023cb"
   },
   "outputs": [
    {
     "name": "stdout",
     "output_type": "stream",
     "text": [
      "CPU times: total: 0 ns\n",
      "Wall time: 0 ns\n"
     ]
    }
   ],
   "source": [
    "# В. С использованием метода Series.mean:\n",
    "\n",
    "def mean_rating_2010c(reviews):\n",
    "    return reviews[reviews['date'].dt.year == 2010]['rating'].mean()\n",
    "\n",
    "mean_rating_2010c(reviews)\n",
    "%time"
   ]
  },
  {
   "cell_type": "code",
   "execution_count": 48,
   "metadata": {
    "id": "XwT496u8_TkP"
   },
   "outputs": [],
   "source": [
    "# Проверим, что результаты работы всех написанных функций корректны и совпадают:\n",
    "\n",
    "reviews_2010 = reviews[reviews['date'].dt.year == 2010]\n",
    "\n",
    "assert mean_rating_2010a(reviews) == mean_rating_2010b(reviews_2010) == mean_rating_2010c(reviews)"
   ]
  },
  {
   "cell_type": "code",
   "execution_count": null,
   "metadata": {
    "id": "39FKQ0csZHsC"
   },
   "outputs": [],
   "source": []
  },
  {
   "cell_type": "code",
   "execution_count": 49,
   "metadata": {
    "id": "tqY-UdRyZIg1"
   },
   "outputs": [],
   "source": [
    "import pandas as pd\n",
    "\n",
    "def function_1B(df: pd.DataFrame) -> float:\n",
    "    # Группируем данные по столбцу 'A'\n",
    "    grouped_data = df.groupby('A')\n",
    "    \n",
    "    # Вычисляем среднее значение для каждой группы\n",
    "    mean_values = grouped_data['B'].mean()\n",
    "    \n",
    "    # Вычисляем сумму средних значений\n",
    "    result = mean_values.sum()\n",
    "    \n",
    "    return result"
   ]
  },
  {
   "cell_type": "markdown",
   "metadata": {
    "id": "EKKgtEySZDSv"
   },
   "source": [
    "3. Вам предлагается воспользоваться функцией, которая собирает статистику о том, сколько отзывов содержат то или иное слово. Измерьте время выполнения этой функции. Сможете ли вы найти узкие места в коде, используя профайлер? Выпишите (словами), что в имеющемся коде реализовано неоптимально. Оптимизируйте функцию и добейтесь значительного (как минимум, на один порядок) прироста в скорости выполнения."
   ]
  },
  {
   "cell_type": "code",
   "execution_count": 50,
   "metadata": {
    "colab": {
     "base_uri": "https://localhost:8080/"
    },
    "id": "QCwVcztGZDSv",
    "outputId": "8007b89b-3a66-404f-82e8-9434d570da86"
   },
   "outputs": [
    {
     "name": "stderr",
     "output_type": "stream",
     "text": [
      "UsageError: Line magic function `%%time` not found.\n"
     ]
    }
   ],
   "source": [
    "def get_word_reviews_count(df):\n",
    "    word_reviews = {}\n",
    "    for _, row in df.dropna(subset=['review']).iterrows():\n",
    "        recipe_id, review = row['recipe_id'], row['review']\n",
    "        words = review.split(' ')\n",
    "        for word in words:\n",
    "            if word not in word_reviews:\n",
    "                word_reviews[word] = []\n",
    "            word_reviews[word].append(recipe_id)\n",
    "    \n",
    "    word_reviews_count = {}\n",
    "    for _, row in df.dropna(subset=['review']).iterrows():\n",
    "        review = row['review']\n",
    "        words = review.split(' ')\n",
    "        for word in words:\n",
    "            word_reviews_count[word] = len(word_reviews[word])\n",
    "    return word_reviews_count\n",
    "%%time"
   ]
  },
  {
   "cell_type": "code",
   "execution_count": null,
   "metadata": {
    "colab": {
     "base_uri": "https://localhost:8080/"
    },
    "id": "hG2ZdBM-qNMp",
    "outputId": "ae82fd32-1522-4d97-8552-0b5370953c4c"
   },
   "outputs": [],
   "source": [
    "from collections import defaultdict\n",
    "from multiprocessing import Pool\n",
    "from numba import jit\n",
    "\n",
    "@jit(nopython=True)\n",
    "def count_words(text, words):\n",
    "    stats = defaultdict(int)\n",
    "    for word in text.split():\n",
    "        if word in words:\n",
    "            stats[word] += 1\n",
    "    return stats\n",
    "\n",
    "def analyze_reviews(reviews, words):\n",
    "    stats = defaultdict(int)\n",
    "    with Pool() as p:\n",
    "        results = p.starmap(count_words, [(review, words) for review in reviews])\n",
    "        for result in results:\n",
    "            for word, count in result.items():\n",
    "                stats[word] += count\n",
    "    return stats\n"
   ]
  },
  {
   "cell_type": "markdown",
   "metadata": {
    "id": "S9vUSvDJZDSw"
   },
   "source": [
    "4. Напишите несколько версий функции `MAPE` (см. [MAPE](https://en.wikipedia.org/wiki/Mean_absolute_percentage_error)) для расчета среднего абсолютного процентного отклонения значения рейтинга отзыва на рецепт от среднего значения рейтинга по всем отзывам для этого рецепта. \n",
    "    1. Без использования векторизованных операций и методов массивов `numpy` и без использования `numba`\n",
    "    2. Без использования векторизованных операций и методов массивов `numpy`, но с использованием `numba`\n",
    "    3. С использованием векторизованных операций и методов массивов `numpy`, но без использования `numba`\n",
    "    4. C использованием векторизованных операций и методов массивов `numpy` и `numba`\n",
    "    \n",
    "Измерьте время выполнения каждой из реализаций.\n",
    "\n",
    "Замечание: удалите из выборки отзывы с нулевым рейтингом.\n"
   ]
  },
  {
   "cell_type": "code",
   "execution_count": null,
   "metadata": {
    "id": "XrkuRoiGZDSw"
   },
   "outputs": [],
   "source": [
    "import pandas as pd\n",
    "\n",
    "def MAPE(df: pd.DataFrame) -> float:\n",
    "    # Удаляем строки с нулевым рейтингом\n",
    "    df = df[df['rating'] != 0]\n",
    "    \n",
    "    # Группируем данные по рецепту\n",
    "    grouped_data = df.groupby('recipe_id')\n",
    "    \n",
    "    # Вычисляем средний рейтинг для каждого рецепта\n",
    "    mean_ratings = grouped_data['rating'].mean()\n",
    "    \n",
    "    # Вычисляем сумму абсолютных процентных отклонений для каждого рецепта\n",
    "    mape_sum = 0\n",
    "    for recipe_id, rating in mean_ratings.iteritems():\n",
    "        recipe_data = df[df['recipe_id'] == recipe_id]\n",
    "        actual_rating = recipe_data['rating'].values\n",
    "        mape_sum += abs(actual_rating - rating) / rating\n",
    "    \n",
    "    # Вычисляем среднее абсолютное процентное отклонение для всех рецептов\n",
    "    result = mape_sum.sum() / len(mean_ratings)\n",
    "    \n",
    "    return result"
   ]
  },
  {
   "cell_type": "code",
   "execution_count": null,
   "metadata": {
    "id": "GKEBAnVlESjG"
   },
   "outputs": [],
   "source": [
    "# С использованием векторизованных операций и методов массивов numpy, но без использования numba:\n",
    "\n",
    "import pandas as pd\n",
    "import numpy as np\n",
    "\n",
    "def MAPE(df: pd.DataFrame) -> float:\n",
    "    # Удаляем строки с нулевым рейтингом\n",
    "    df = df[df['rating'] != 0]\n",
    "    \n",
    "    # Группируем данные по рецепту\n",
    "    grouped_data = df.groupby('recipe_id')\n",
    "    \n",
    "    # Вычисляем средний рейтинг для каждого рецепта\n",
    "    mean_ratings = grouped_data['rating'].mean()\n",
    "    \n",
    "    # Вычисляем сумму абсолютных процентных отклонений для каждого рецепта\n",
    "    mape_sum = 0\n",
    "    for recipe_id, rating in mean_ratings.iteritems():\n",
    "        recipe_data = df[df['recipe_id'] == recipe_id]\n",
    "        actual_rating = recipe_data['rating'].values\n",
    "        mape_sum += np.abs(actual_rating - rating) / rating\n",
    "    \n",
    "    # Вычисляем среднее абсолютное процентное отклонение для всех рецептов\n",
    "    result = mape_sum.sum() / len(mean_ratings)\n",
    "    \n",
    "    return result"
   ]
  },
  {
   "cell_type": "code",
   "execution_count": null,
   "metadata": {
    "id": "y0pYt91DESmT"
   },
   "outputs": [],
   "source": [
    "# С использованием numba и векторизованных операций и методов массивов numpy:\n",
    "\n",
    "import pandas as pd\n",
    "import numpy as np\n",
    "from numba import jit\n",
    "\n",
    "@jit(nopython=True)\n",
    "def mape_numba(actual_rating, rating):\n",
    "    return np.abs(actual_rating - rating) / rating\n",
    "\n",
    "def MAPE(df: pd.DataFrame) -> float:\n",
    "    # Удаляем строки с нулевым рейтингом\n",
    "    df = df[df['rating'] != 0]\n",
    "    \n",
    "    # Группируем данные по рецепту\n",
    "    grouped_data = df.groupby('recipe_id')\n",
    "    \n",
    "    # Вычисляем средний рейтинг для каждого рецепта\n",
    "    mean_ratings = grouped_data['rating'].mean()\n",
    "    \n",
    "    # Вычисляем сумму абсолютных процентных отклонений для каждого рецепта\n",
    "    mape_sum = 0\n",
    "    for recipe_id, rating in mean_ratings.iteritems():\n",
    "        recipe_data = df[df['recipe_id'] == recipe_id]\n",
    "        actual_rating = recipe_data['rating'].values\n",
    "        mape_sum += mape_numba(actual_rating, rating)\n",
    "    \n",
    "    # Вычисляем среднее абсолютное процентное отклонение для всех рецептов\n",
    "    result = mape_sum.sum() / len(mean_ratings)\n",
    "    \n",
    "    return result"
   ]
  },
  {
   "cell_type": "code",
   "execution_count": 51,
   "metadata": {
    "id": "qrx5p0i7ESpL"
   },
   "outputs": [],
   "source": [
    "# Без использования векторизованных операций и методов массивов numpy, но с использованием numba\n",
    "import pandas as pd\n",
    "from numba import jit\n",
    "\n",
    "@jit(nopython=True)\n",
    "def mape_numba(actual_rating, rating):\n",
    "    mape_sum = 0\n",
    "    for i in range(len(actual_rating)):\n",
    "        mape_sum += abs(actual_rating[i] - rating) / rating\n",
    "    return mape_sum\n",
    "\n",
    "def MAPE(df: pd.DataFrame) -> float:\n",
    "    # Удаляем строки с нулевым рейтингом\n",
    "    df = df[df['rating'] != 0]\n",
    "    \n",
    "    # Группируем данные по рецепту\n",
    "    grouped_data = df.groupby('recipe_id')\n",
    "    \n",
    "    # Вычисляем средний рейтинг для каждого рецепта\n",
    "    mean_ratings = grouped_data['rating'].mean()\n",
    "    \n",
    "    # Вычисляем сумму абсолютных процентных отклонений для каждого рецепта\n",
    "    mape_sum = 0\n",
    "    for recipe_id, rating in mean_ratings.iteritems():\n",
    "        recipe_data = df[df['recipe_id'] == recipe_id]\n",
    "        actual_rating = recipe_data['rating'].values\n",
    "        mape_sum += mape_numba(actual_rating, rating)\n",
    "    \n",
    "    # Вычисляем среднее абсолютное процентное отклонение для всех рецептов\n",
    "    result = mape_sum.sum() / len(mean_ratings)\n",
    "    \n",
    "    return result"
   ]
  },
  {
   "cell_type": "code",
   "execution_count": 52,
   "metadata": {
    "id": "bRX3GlTNESrv"
   },
   "outputs": [],
   "source": [
    "# Без использования векторизованных операций и методов массивов numpy и без использования numba\n",
    "import pandas as pd\n",
    "\n",
    "def MAPE(df: pd.DataFrame) -> float:\n",
    "    # Удаляем строки с нулевым рейтингом\n",
    "    df = df[df['rating'] != 0]\n",
    "    \n",
    "    # Группируем данные по рецепту\n",
    "    grouped_data = df.groupby('recipe_id')\n",
    "    \n",
    "    # Вычисляем средний рейтинг для каждого рецепта\n",
    "    mean_ratings = grouped_data['rating'].mean()\n",
    "    \n",
    "    # Вычисляем сумму абсолютных процентных отклонений для каждого рецепта\n",
    "    mape_sum = 0\n",
    "    for recipe_id, rating in mean_ratings.iteritems():\n",
    "        recipe_data = df[df['recipe_id'] == recipe_id]\n",
    "        actual_rating = recipe_data['rating'].values\n",
    "        mape_sum += abs(actual_rating - rating) / rating\n",
    "    \n",
    "    # Вычисляем среднее абсолютное процентное отклонение для всех рецептов\n",
    "    result = mape_sum.sum() / len(mean_ratings)\n",
    "    \n",
    "    return result"
   ]
  },
  {
   "cell_type": "code",
   "execution_count": null,
   "metadata": {},
   "outputs": [],
   "source": []
  }
 ],
 "metadata": {
  "colab": {
   "provenance": []
  },
  "kernelspec": {
   "display_name": "Python 3 (ipykernel)",
   "language": "python",
   "name": "python3"
  },
  "language_info": {
   "codemirror_mode": {
    "name": "ipython",
    "version": 3
   },
   "file_extension": ".py",
   "mimetype": "text/x-python",
   "name": "python",
   "nbconvert_exporter": "python",
   "pygments_lexer": "ipython3",
   "version": "3.9.12"
  }
 },
 "nbformat": 4,
 "nbformat_minor": 1
}
