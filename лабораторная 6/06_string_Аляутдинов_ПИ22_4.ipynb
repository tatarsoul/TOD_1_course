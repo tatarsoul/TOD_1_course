{
  "cells": [
    {
      "cell_type": "markdown",
      "metadata": {
        "id": "qrC9mwrRbHyw"
      },
      "source": [
        "# Работа со строковыми значениями"
      ]
    },
    {
      "cell_type": "markdown",
      "metadata": {
        "id": "XhcYkmYAbHyy"
      },
      "source": [
        "__Автор задач: Блохин Н.В. (NVBlokhin@fa.ru)__\n",
        "\n",
        "Материалы:\n",
        "* Макрушин С.В. Лекция \"Работа со строковыми значениям\"\n",
        "* https://pyformat.info/\n",
        "* https://docs.python.org/3/library/re.html\n",
        "    * https://docs.python.org/3/library/re.html#flags\n",
        "    * https://docs.python.org/3/library/re.html#functions\n",
        "* https://pythonru.com/primery/primery-primeneniya-regulyarnyh-vyrazheniy-v-python\n",
        "* https://kanoki.org/2019/11/12/how-to-use-regex-in-pandas/\n",
        "* https://realpython.com/nltk-nlp-python/"
      ]
    },
    {
      "cell_type": "markdown",
      "metadata": {
        "id": "taKNmo06bHyz"
      },
      "source": [
        "## Задачи для совместного разбора"
      ]
    },
    {
      "cell_type": "markdown",
      "metadata": {
        "id": "f7rLPYbrbHyz"
      },
      "source": [
        "1. Вывести на экран данные из словаря `obj` построчно в виде `k = v`, задав формат таким образом, чтобы знак равенства оказался на одной и той же позиции во всех строках. Строковые литералы обернуть в кавычки."
      ]
    },
    {
      "cell_type": "code",
      "execution_count": null,
      "metadata": {
        "id": "3yjv_FbIbHyz",
        "outputId": "d5f550d8-60aa-43ed-a6a8-7194f2b98773"
      },
      "outputs": [
        {
          "name": "stdout",
          "output_type": "stream",
          "text": [
            "home_page  = 'https://github.com/pypa/sampleproject'\n",
            "keywords   = 'sample setuptools development'\n",
            "license    = 'MIT'\n"
          ]
        }
      ],
      "source": [
        "obj = {\n",
        "    \"home_page\": \"https://github.com/pypa/sampleproject\",\n",
        "    \"keywords\": \"sample setuptools development\",\n",
        "    \"license\": \"MIT\",\n",
        "}\n",
        "\n",
        "for k, v in obj.items():\n",
        "    print(f\"{k:<10} = '{v}'\")"
      ]
    },
    {
      "cell_type": "markdown",
      "metadata": {
        "id": "oPI-PzgXbHy1"
      },
      "source": [
        "2. Написать регулярное выражение,которое позволит найти номера групп студентов."
      ]
    },
    {
      "cell_type": "markdown",
      "metadata": {
        "id": "9v5yuP6-bHy1"
      },
      "source": [
        "3. Разбейте текст формулировки задачи 2 на слова."
      ]
    },
    {
      "cell_type": "code",
      "execution_count": null,
      "metadata": {
        "id": "ahY9r2lDbHy1",
        "outputId": "57e6a539-4c87-4dfc-d2da-cd2124837278"
      },
      "outputs": [
        {
          "name": "stdout",
          "output_type": "stream",
          "text": [
            "['Написать', 'регулярное', 'выражение,', 'которое', 'позволит', 'найти', 'номера', 'групп', 'студентов.']\n"
          ]
        }
      ],
      "source": [
        "text = 'Написать регулярное выражение, которое позволит найти номера групп студентов.'\n",
        "print(text.split())"
      ]
    },
    {
      "cell_type": "markdown",
      "metadata": {
        "id": "_NLY5cctbHy1"
      },
      "source": [
        "## Лабораторная работа 6"
      ]
    },
    {
      "cell_type": "markdown",
      "metadata": {
        "id": "B5JnViHpbHy1"
      },
      "source": [
        "### Форматирование строк"
      ]
    },
    {
      "cell_type": "markdown",
      "metadata": {
        "id": "TxFjixDBbHy1"
      },
      "source": [
        "1\\. Загрузите данные из файла `recipes_sample.csv` (__ЛР2__) в виде `pd.DataFrame` `recipes` При помощи форматирования строк выведите информацию об id рецепта и времени выполнения 5 случайных рецептов в виде таблицы следующего вида:\n",
        "\n",
        "    \n",
        "    |      id      |  minutes  |\n",
        "    |--------------------------|\n",
        "    |    61178     |    65     |\n",
        "    |    202352    |    80     |\n",
        "    |    364322    |    150    |\n",
        "    |    26177     |    20     |\n",
        "    |    224785    |    35     |\n",
        "    \n",
        "Обратите внимание, что ширина столбцов заранее неизвестна и должна рассчитываться динамически, в зависимости от тех данных, которые были выбраны. "
      ]
    },
    {
      "cell_type": "code",
      "execution_count": null,
      "metadata": {
        "id": "luU04glbbHy2",
        "outputId": "12fc6655-da5e-4523-de0d-b399093250d2"
      },
      "outputs": [
        {
          "name": "stdout",
          "output_type": "stream",
          "text": [
            "|     id      |  minutes   |\n",
            "|--------------------------|\n",
            "|   120565    |    75      |\n",
            "|   274203    |    20      |\n",
            "|   456677    |    40      |\n",
            "|   352598    |    20      |\n",
            "|   171260    |    25      |\n"
          ]
        }
      ],
      "source": [
        "recipes = pd.read_csv('recipes_sample.csv')\n",
        "\n",
        "# выбираем 5 случайных строк\n",
        "sample_recipes = recipes.sample(n=5)\n",
        "\n",
        "# форматируем строки с данными\n",
        "formatted_data = [\n",
        "    '|{:^12} |{:^11} |'.format(row['id'], row['minutes'])\n",
        "    for _, row in sample_recipes.iterrows()\n",
        "]\n",
        "\n",
        "# создаем заголовок таблицы\n",
        "header = '|{:^12} |{:^11} |'.format('id', 'minutes')\n",
        "horizontal_line = '|' + '-'*26 + '|'\n",
        "\n",
        "# объединяем заголовок, горизонтальную линию и строки с данными в единую таблицу\n",
        "table = header + '\\n' + horizontal_line + '\\n' + '\\n'.join(formatted_data)\n",
        "\n",
        "# выводим таблицу\n",
        "print(table)"
      ]
    },
    {
      "cell_type": "markdown",
      "metadata": {
        "id": "O9y4aWSMbHy2"
      },
      "source": [
        "2\\. Напишите функцию `show_info`, которая по данным о рецепте создает строку (в смысле объекта python) с описанием следующего вида:\n",
        "\n",
        "```\n",
        "\"Название Из Нескольких Слов\"\n",
        "\n",
        "1. Шаг 1\n",
        "2. Шаг 2\n",
        "----------\n",
        "Автор: contributor_id\n",
        "Среднее время приготовления: minutes минут\n",
        "```\n",
        "\n",
        "    \n",
        "Данные для создания строки получите из файлов `recipes_sample.csv` (__ЛР2__) и `steps_sample.xml` (__ЛР3__). \n",
        "Вызовите данную функцию для рецепта с id `170895` и выведите (через `print`) полученную строку на экран."
      ]
    },
    {
      "cell_type": "code",
      "execution_count": null,
      "metadata": {
        "id": "I1V-auQObHy2",
        "outputId": "73686138-f0d0-4ee2-f34e-43295173bf7e"
      },
      "outputs": [
        {
          "name": "stdout",
          "output_type": "stream",
          "text": [
            "\"Leeks And Parsnips  Sauteed Or Creamed\"\n",
            "\n",
            "1. Clean the leeks and discard the dark green portions\n",
            "2. Cut the leeks lengthwise then into one-inch pieces\n",
            "3. Melt the butter in a medium skillet , med\n",
            "4. Heat\n",
            "5. Add the garlic and fry 'til fragrant\n",
            "6. Add leeks and fry until the leeks are tender , about 6-minutes\n",
            "7. Meanwhile , peel and chunk the parsnips into one-inch pieces\n",
            "8. Place in a steaming basket and steam 'til they are as tender as you prefer\n",
            "9. I like them fork-tender\n",
            "10. Drain parsnips and add to the skillet with the leeks\n",
            "11. Add salt and pepper\n",
            "12. Gently sautee together for 5-minutes\n",
            "13. At this point you can serve it , or continue on and cream it:\n",
            "14. In a jar with a screw top , add the half-n-half and arrowroot\n",
            "15. Shake 'til blended\n",
            "16. Turn heat to low under the leeks and parsnips\n",
            "17. Pour in the arrowroot mixture , stirring gently as you pour\n",
            "18. If too thick , gradually add the water\n",
            "19. Let simmer for a couple of minutes\n",
            "20. Taste to adjust seasoning , probably an additional 1 / 2 teaspoon salt\n",
            "21. Serve warm\n",
            "----------\n",
            "Автор: 8377\n",
            "Среднее время приготовления: 27 минут\n",
            "\n"
          ]
        }
      ],
      "source": [
        "import pandas as pd\n",
        "from bs4 import BeautifulSoup\n",
        "\n",
        "# чтение CSV файла\n",
        "df_recipes = pd.read_csv('recipes_sample.csv')\n",
        "\n",
        "# чтение XML файла\n",
        "with open('steps_sample.xml') as f:\n",
        "    ab = BeautifulSoup(f, 'xml')\n",
        "\n",
        "# создание словаря с шагами рецептов\n",
        "steps_dict = {}\n",
        "for recipe in ab.find_all('recipe'):\n",
        "    recipe_id = int(recipe.id.text)\n",
        "    steps = [step.text for step in recipe.find_all('step')]\n",
        "    steps_dict[recipe_id] = steps\n",
        "\n",
        "def show_info(recipe_id):\n",
        "    # поиск нужного рецепта\n",
        "    row = df_recipes[df_recipes['id'] == recipe_id]\n",
        "    name = row['name'].iloc[0]\n",
        "    minutes = row['minutes'].iloc[0]\n",
        "    author_id = row['contributor_id'].iloc[0]\n",
        "    steps = steps_dict[recipe_id]\n",
        "\n",
        "    # формирование строки с информацией о рецепте\n",
        "    s = f'\"{name.title()}\"\\n\\n'\n",
        "    for index, step in enumerate(steps):\n",
        "        s += f'{index+1}. {step.capitalize()}\\n'\n",
        "    s += '-' * 10 + '\\n'\n",
        "    s += f'Автор: {author_id}\\n'\n",
        "    s += f'Среднее время приготовления: {minutes} минут\\n'\n",
        "\n",
        "    return s\n",
        "\n",
        "print(show_info(170895))"
      ]
    },
    {
      "cell_type": "markdown",
      "metadata": {
        "id": "kQ9jZDDwbHy3"
      },
      "source": [
        "## Работа с регулярными выражениями"
      ]
    },
    {
      "cell_type": "markdown",
      "metadata": {
        "id": "jU5eVPIYbHy3"
      },
      "source": [
        "3\\. Напишите регулярное выражение, которое ищет следующий паттерн в строке: число (1 цифра или более), затем пробел, затем слова: hour или hours или minute или minutes. Произведите поиск по данному регулярному выражению в каждом шаге рецепта с id 25082. Выведите на экран все непустые результаты, найденные по данному шаблону."
      ]
    },
    {
      "cell_type": "code",
      "execution_count": null,
      "metadata": {
        "id": "tS8LebtSbHy3",
        "outputId": "a1932c2d-417f-4cc1-fb7b-f577b84c158d"
      },
      "outputs": [
        {
          "name": "stdout",
          "output_type": "stream",
          "text": [
            "Шаг 6: 20 minutes\n",
            "Шаг 8: 10 minutes\n",
            "Шаг 10: 2 hours\n",
            "Шаг 14: 10 minutes\n",
            "Шаг 17: 20 minutes, 30 minutes\n"
          ]
        }
      ],
      "source": [
        "import re\n",
        "import xml.etree.ElementTree as ET\n",
        "\n",
        "# чтение XML файла\n",
        "tree = ET.parse('steps_sample.xml')\n",
        "root = tree.getroot()\n",
        "\n",
        "# поиск шагов рецепта с id 25082\n",
        "recipe = root.find(\".//recipe[id='25082']\")\n",
        "steps = recipe.find(\"steps\")\n",
        "for i, step in enumerate(steps.findall(\"step\"), 1):\n",
        "        matches = re.findall(r'\\d+\\s+(?:hour|minute)s?', step.text)\n",
        "        if matches:\n",
        "            print(f\"Шаг {i}: {', '.join(matches)}\")"
      ]
    },
    {
      "cell_type": "markdown",
      "metadata": {
        "id": "LoSUrrlfbHy3"
      },
      "source": [
        "4\\. Напишите регулярное выражение, которое ищет шаблон вида \"this..., but\" _в начале строки_ . Между словом \"this\" и частью \", but\" может находиться произвольное число букв, цифр, знаков подчеркивания и пробелов. Никаких других символов вместо многоточия быть не может. Пробел между запятой и словом \"but\" может присутствовать или отсутствовать.\n",
        "\n",
        "Используя строковые методы `pd.Series`, выясните, для каких рецептов данный шаблон содержится в тексте описания. Выведите на экран количество таких рецептов и 3 примера подходящих описаний (текст описания должен быть виден на экране полностью)."
      ]
    },
    {
      "cell_type": "code",
      "execution_count": null,
      "metadata": {
        "id": "fWqq-Fa2bHy4",
        "outputId": "1567825a-d8a5-4ada-cc99-19db48d0c98d"
      },
      "outputs": [
        {
          "name": "stdout",
          "output_type": "stream",
          "text": [
            "Количество подходящих описаний: 134\n",
            "20682                                                                                                                  this spanish dish is a lot like our sloppy joes, but with a little bit more pizzazz.  i suggest serving this over rice.\n",
            "7853                             this is sooooo simple, but with an elegant presentation. best of all, all 3 ingredients can be stored for indefinite periods in pantry/fridge. a great help when unexpected guests show up over the holidays.\n",
            "27159    this uses frozen cheesesteak meat, but you can easily substitute deli roast beef.  it's quick and easy, from everyday with rachael ray.  it's a flexible recipe, and i think i will try it with grilled onions and some fajita sauce.\n",
            "Name: description, dtype: object\n"
          ]
        }
      ],
      "source": [
        "import pandas as pd\n",
        "\n",
        "# Чтение данных\n",
        "df_recipes = pd.read_csv('recipes_sample.csv')\n",
        "\n",
        "# Замена пропущенных значений на пробелы\n",
        "df_recipes['description'].fillna(' ', inplace=True)\n",
        "\n",
        "# Поиск описаний, соответствующих шаблону\n",
        "pattern = '^this[\\w\\d\\s]+,[ ]?but'\n",
        "matching_descriptions = df_recipes[df_recipes['description'].str.contains(pattern, regex=True)]\n",
        "\n",
        "# Вывод результатов\n",
        "print('Количество подходящих описаний:', matching_descriptions.shape[0])\n",
        "pd.set_option('max_colwidth', int(matching_descriptions['description'].apply(len).max() + 10))\n",
        "print(matching_descriptions['description'].sample(3))"
      ]
    },
    {
      "cell_type": "markdown",
      "metadata": {
        "id": "wtTC1fj6bHy4"
      },
      "source": [
        "5\\. В текстах шагов рецептов обыкновенные дроби имеют вид \"a / b\". Используя регулярные выражения, уберите в тексте шагов рецепта с id 72367 пробелы до и после символа дроби. Выведите на экран шаги этого рецепта после их изменения."
      ]
    },
    {
      "cell_type": "code",
      "execution_count": null,
      "metadata": {
        "id": "YDd7soNdbHy4",
        "outputId": "7736841f-0273-4d36-e6fe-23c6edca3e40"
      },
      "outputs": [
        {
          "name": "stdout",
          "output_type": "stream",
          "text": [
            "mix butter , flour , 1/3 c\n",
            "sugar and 1-1/4 t\n",
            "vanilla\n",
            "press into greased 9\" springform pan\n",
            "mix cream cheese , 1/4 c\n",
            "sugar , eggs and 1/2 t\n",
            "vanilla beating until fluffy\n",
            "pour over dough\n",
            "combine apples , 1/3 c\n",
            "sugar and cinnamon\n",
            "arrange on top of cream cheese mixture and sprinkle with almonds\n",
            "bake at 350 for 45-55 minutes , or until tester comes out clean\n"
          ]
        }
      ],
      "source": [
        "import xml.etree.ElementTree as ET\n",
        "import re\n",
        "\n",
        "# Парсим XML-файл и получаем корневой элемент\n",
        "tree = ET.parse('steps_sample.xml')\n",
        "root = tree.getroot()\n",
        "\n",
        "# Находим шаги рецепта с id 72367 и убираем пробелы до и после символа дроби\n",
        "recipe_id = '72367'\n",
        "recipe_steps = root.findall(f\".//recipe[id='{recipe_id}']/steps/step\")\n",
        "\n",
        "for step in recipe_steps:\n",
        "    step_text = step.text\n",
        "    if step_text:\n",
        "        # Заменяем пробелы перед и после символа дроби\n",
        "        step_text = re.sub(r'\\s*/\\s*', '/', step_text)\n",
        "        # Заменяем текст шага на измененный текст\n",
        "        step.text = step_text\n",
        "\n",
        "# Выводим на экран измененные шаги рецепта\n",
        "for step in recipe_steps:\n",
        "    print(step.text)"
      ]
    },
    {
      "cell_type": "markdown",
      "metadata": {
        "id": "xtGxbDO3bHy4"
      },
      "source": [
        "### Сегментация текста"
      ]
    },
    {
      "cell_type": "markdown",
      "metadata": {
        "id": "p86BWXEgbHy4"
      },
      "source": [
        "6\\. Разбейте тексты шагов рецептов на слова при помощи пакета `nltk`. Посчитайте и выведите на экран кол-во уникальных слов среди всех рецептов. Словом называется любая последовательность алфавитных символов (для проверки можно воспользоваться `str.isalpha`). При подсчете количества уникальных слов не учитывайте регистр."
      ]
    },
    {
      "cell_type": "code",
      "execution_count": null,
      "metadata": {
        "id": "p-zriR7rbHy5",
        "outputId": "8f85bc5d-1493-4e34-d0b5-fb1f15c4fb9d"
      },
      "outputs": [
        {
          "name": "stdout",
          "output_type": "stream",
          "text": [
            "Requirement already satisfied: nltk in ./opt/anaconda3/lib/python3.9/site-packages (3.7)\r\n",
            "Requirement already satisfied: joblib in ./opt/anaconda3/lib/python3.9/site-packages (from nltk) (1.1.0)\r\n",
            "Requirement already satisfied: click in ./opt/anaconda3/lib/python3.9/site-packages (from nltk) (8.0.4)\r\n",
            "Requirement already satisfied: tqdm in ./opt/anaconda3/lib/python3.9/site-packages (from nltk) (4.64.0)\r\n",
            "Requirement already satisfied: regex>=2021.8.3 in ./opt/anaconda3/lib/python3.9/site-packages (from nltk) (2022.3.15)\r\n"
          ]
        }
      ],
      "source": [
        "!pip install nltk"
      ]
    },
    {
      "cell_type": "code",
      "execution_count": null,
      "metadata": {
        "id": "FlUVNT4ebHy5",
        "outputId": "13926176-6e75-4653-9933-e59e8769035f"
      },
      "outputs": [
        {
          "name": "stdout",
          "output_type": "stream",
          "text": [
            "Количество уникальных слов: 14953\n"
          ]
        }
      ],
      "source": [
        "import nltk\n",
        "from nltk.tokenize.toktok import ToktokTokenizer\n",
        "\n",
        "# Создание словаря с шагами рецептов\n",
        "steps_dict = {}\n",
        "for recipe in ab.find_all('recipe'):\n",
        "    recipe_id = int(recipe.id.text)\n",
        "    steps = [step.text for step in recipe.find_all('step')]\n",
        "    steps_dict[recipe_id] = steps\n",
        "\n",
        "# Преобразование списка списков в один плоский список и перевод всех слов в нижний регистр\n",
        "flat_arr = [step.lower() for steps in steps_dict.values() for step in steps]\n",
        "\n",
        "# Создание объекта токенизатора\n",
        "toktok = ToktokTokenizer()\n",
        "\n",
        "# Токенизация плоского списка и фильтрация только слов (исключая знаки пунктуации и цифры)\n",
        "tokens = toktok.tokenize(flat_arr)\n",
        "words = filter(str.isalpha, tokens)\n",
        "\n",
        "# Подсчет количества уникальных слов\n",
        "unique_words = set(words)\n",
        "print(f\"Количество уникальных слов: {len(unique_words)}\")"
      ]
    },
    {
      "cell_type": "markdown",
      "metadata": {
        "id": "auILXzWcbHy5"
      },
      "source": [
        "7\\. Разбейте описания рецептов из `recipes` на предложения при помощи пакета `nltk`. Найдите 5 самых длинных описаний (по количеству _предложений_) рецептов в датасете и выведите строки фрейма, соответствующие этим рецептами, в порядке убывания длины."
      ]
    },
    {
      "cell_type": "code",
      "execution_count": 1,
      "metadata": {
        "colab": {
          "base_uri": "https://localhost:8080/"
        },
        "id": "WGwnbknXbHy5",
        "outputId": "af354fec-7e7e-4490-8f53-b8632d6e5b37"
      },
      "outputs": [
        {
          "output_type": "stream",
          "name": "stderr",
          "text": [
            "[nltk_data] Downloading package punkt to /root/nltk_data...\n",
            "[nltk_data]   Unzipping tokenizers/punkt.zip.\n"
          ]
        },
        {
          "output_type": "execute_result",
          "data": {
            "text/plain": [
              "True"
            ]
          },
          "metadata": {},
          "execution_count": 1
        }
      ],
      "source": [
        "import nltk\n",
        "nltk.download('punkt')"
      ]
    },
    {
      "cell_type": "code",
      "execution_count": 17,
      "metadata": {
        "scrolled": false,
        "colab": {
          "base_uri": "https://localhost:8080/"
        },
        "id": "jdKbqOy0bHy5",
        "outputId": "d033c2fb-0f3a-4eb1-b763-d5e417df8734"
      },
      "outputs": [
        {
          "output_type": "stream",
          "name": "stdout",
          "text": [
            "                                                    name  sentences_count  \\\n",
            "18408       my favorite buttercream icing for decorating               76   \n",
            "481    alligator claws  avocado fritters  with chipot...               27   \n",
            "22566                          rich barley mushroom soup               24   \n",
            "6779                                       chocolate tea               23   \n",
            "16296  little bunny foo foo cake  carrot cake  with c...               23   \n",
            "\n",
            "                                             description  \n",
            "18408  this wonderful icing is used for icing cakes a...  \n",
            "481    a translucent golden-brown crust allows the gr...  \n",
            "22566  this is one of the best soups i've ever made a...  \n",
            "6779   i wrote this because there are an astounding l...  \n",
            "16296  the first time i made this cake i grated a mil...  \n"
          ]
        }
      ],
      "source": [
        "import nltk\n",
        "import pandas as pd\n",
        "\n",
        "# загрузка данных\n",
        "df_recipes = pd.read_csv('recipes_sample.csv')\n",
        "\n",
        "# проверка типов данных столбца 'description'\n",
        "df_recipes = df_recipes.loc[df_recipes['description'].apply(lambda x: isinstance(x, str))]\n",
        "\n",
        "# разбиение описаний на предложения и подсчет количества предложений\n",
        "df_recipes['sentences'] = df_recipes['description'].apply(nltk.sent_tokenize)\n",
        "df_recipes['sentences_count'] = df_recipes['sentences'].apply(len)\n",
        "\n",
        "# определение 5 самых длинных описаний по количеству предложений\n",
        "top_5_longest = df_recipes.nlargest(5, 'sentences_count', keep='all')\n",
        "\n",
        "# вывод самых длинных описаний\n",
        "print(top_5_longest[['name', 'sentences_count', 'description']].head())"
      ]
    },
    {
      "cell_type": "markdown",
      "metadata": {
        "id": "qfbM7xhmbHy6"
      },
      "source": [
        "8\\. Напишите функцию, которая для заданного предложения выводит информацию о частях речи слов, входящих в предложение, в следующем виде:\n",
        "```\n",
        "PRP   VBD   DT      NNS     CC   VBD      NNS        RB   \n",
        " I  omitted the raspberries and added strawberries instead\n",
        "``` \n",
        "Для определения части речи слова можно воспользоваться `nltk.pos_tag`.\n",
        "\n",
        "Проверьте работоспособность функции на названии рецепта с id 241106.\n",
        "\n",
        "Обратите внимание, что часть речи должна находиться ровно посередине над соотвествующим словом, а между самими словами должен быть ровно один пробел.\n"
      ]
    },
    {
      "cell_type": "code",
      "source": [
        "import nltk\n",
        "nltk.download('punkt')\n",
        "nltk.download('averaged_perceptron_tagger')"
      ],
      "metadata": {
        "colab": {
          "base_uri": "https://localhost:8080/"
        },
        "id": "uxBwX68No972",
        "outputId": "2702663c-ae35-4af8-fda2-a02cf574365d"
      },
      "execution_count": 5,
      "outputs": [
        {
          "output_type": "stream",
          "name": "stderr",
          "text": [
            "[nltk_data] Downloading package punkt to /root/nltk_data...\n",
            "[nltk_data]   Package punkt is already up-to-date!\n",
            "[nltk_data] Downloading package averaged_perceptron_tagger to\n",
            "[nltk_data]     /root/nltk_data...\n",
            "[nltk_data]   Unzipping taggers/averaged_perceptron_tagger.zip.\n"
          ]
        },
        {
          "output_type": "execute_result",
          "data": {
            "text/plain": [
              "True"
            ]
          },
          "metadata": {},
          "execution_count": 5
        }
      ]
    },
    {
      "cell_type": "code",
      "execution_count": 6,
      "metadata": {
        "colab": {
          "base_uri": "https://localhost:8080/",
          "height": 36
        },
        "id": "dGh5JUNBbHy6",
        "outputId": "f5ce14c1-aaa0-429e-b6f7-d9dd7f6bf61a"
      },
      "outputs": [
        {
          "output_type": "execute_result",
          "data": {
            "text/plain": [
              "'JJ       NNS    IN   NNS       VBP  JJ     CC  JJ    NNS'"
            ],
            "application/vnd.google.colaboratory.intrinsic+json": {
              "type": "string"
            }
          },
          "metadata": {},
          "execution_count": 6
        }
      ],
      "source": [
        "import nltk\n",
        "import pandas as pd\n",
        "\n",
        "df = pd.read_csv('recipes_sample.csv')\n",
        "\n",
        "def pos_info(sentence):\n",
        "    tokens = nltk.word_tokenize(sentence)\n",
        "    pos_tags = nltk.pos_tag(tokens)\n",
        "    pos_list = [pos[1] for pos in pos_tags]\n",
        "    words_list = [pos[0] for pos in pos_tags]\n",
        "    pos_str = ''\n",
        "    for i in range(len(pos_list)):\n",
        "        pos_str += pos_list[i].ljust(len(words_list[i])) + ' '\n",
        "    return pos_str.strip()\n",
        "\n",
        "recipe_name = df.loc[df['id'] == 241106, 'name'].values[0]\n",
        "pos_info(recipe_name)"
      ]
    },
    {
      "cell_type": "code",
      "source": [
        "import nltk\n",
        "import pandas as pd\n",
        "\n",
        "df = pd.read_csv('recipes_sample.csv')\n",
        "\n",
        "def pos_info(sentence):\n",
        "    tokens = nltk.word_tokenize(sentence)\n",
        "    pos_tags = nltk.pos_tag(tokens)\n",
        "    pos_list = [pos[1] for pos in pos_tags]\n",
        "    words_list = [pos[0] for pos in pos_tags]\n",
        "    max_len = max(len(word) for word in words_list)\n",
        "    output = ' '.join('{{:^{}}}'.format(max_len).format(pos) for pos in pos_list) + '\\n'\n",
        "    output += ' '.join('{{:^{}}}'.format(max_len).format(word) for word in words_list) + '\\n'\n",
        "    return output\n",
        "\n",
        "recipe_name = df.loc[df['id'] == 241106, 'name'].values[0]\n",
        "print(pos_info(recipe_name))\n"
      ],
      "metadata": {
        "colab": {
          "base_uri": "https://localhost:8080/"
        },
        "id": "rB_7Fzk1pvSb",
        "outputId": "41d04c1e-05cd-4a96-81bd-72e5ef47dec4"
      },
      "execution_count": 17,
      "outputs": [
        {
          "output_type": "stream",
          "name": "stdout",
          "text": [
            "   JJ        NNS       IN        NNS       VBP       JJ        CC        JJ        NNS   \n",
            "eggplant   steaks     with    chickpeas   feta     cheese      and      black    olives  \n",
            "\n"
          ]
        }
      ]
    }
  ],
  "metadata": {
    "kernelspec": {
      "display_name": "Python 3 (ipykernel)",
      "language": "python",
      "name": "python3"
    },
    "language_info": {
      "codemirror_mode": {
        "name": "ipython",
        "version": 3
      },
      "file_extension": ".py",
      "mimetype": "text/x-python",
      "name": "python",
      "nbconvert_exporter": "python",
      "pygments_lexer": "ipython3",
      "version": "3.9.12"
    },
    "colab": {
      "provenance": []
    }
  },
  "nbformat": 4,
  "nbformat_minor": 0
}