{
  "cells": [
    {
      "cell_type": "markdown",
      "metadata": {
        "id": "TYDAAFYB4PT-"
      },
      "source": [
        "# Форматы данных (1)"
      ]
    },
    {
      "cell_type": "markdown",
      "metadata": {
        "id": "XXKCZ5vf4PUF"
      },
      "source": [
        "Материалы:\n",
        "* Макрушин С.В. \"Лекция 4: Форматы данных\"\n",
        "* https://docs.python.org/3/library/json.html\n",
        "* https://docs.python.org/3/library/pickle.html\n",
        "* https://www.crummy.com/software/BeautifulSoup/bs4/doc.ru/bs4ru.html\n",
        "* Уэс Маккини. Python и анализ данных"
      ]
    },
    {
      "cell_type": "markdown",
      "metadata": {
        "id": "tczxyeLN4PUH"
      },
      "source": [
        "## Задачи для совместного разбора"
      ]
    },
    {
      "cell_type": "code",
      "source": [
        "import json "
      ],
      "metadata": {
        "id": "0kcJSI4E7RuM"
      },
      "execution_count": null,
      "outputs": []
    },
    {
      "cell_type": "markdown",
      "metadata": {
        "id": "aOn-opl44PUI"
      },
      "source": [
        "1. Вывести все адреса электронной почты, содержащиеся в адресной книге `addres-book.json`"
      ]
    },
    {
      "cell_type": "code",
      "source": [
        "with open('addres-book.json', 'r', encoding='utf-8') as f: # открываем файл на чтение\n",
        "    data_about_people = json.load(f)"
      ],
      "metadata": {
        "id": "TjGUH7BT5qT9"
      },
      "execution_count": null,
      "outputs": []
    },
    {
      "cell_type": "code",
      "source": [
        "for i in range(len(data_about_people)):\n",
        "  print(data_about_people[i]['email'])"
      ],
      "metadata": {
        "colab": {
          "base_uri": "https://localhost:8080/"
        },
        "id": "WZC9wMQr7sN4",
        "outputId": "19d2ee46-8407-4778-e7ca-37a61c00fa50"
      },
      "execution_count": null,
      "outputs": [
        {
          "output_type": "stream",
          "name": "stdout",
          "text": [
            "faina@mail.ru\n",
            "robert@mail.ru\n"
          ]
        }
      ]
    },
    {
      "cell_type": "markdown",
      "metadata": {
        "id": "m7f9_Ddh4PUJ"
      },
      "source": [
        "2. Вывести телефоны, содержащиеся в адресной книге `addres-book.json`"
      ]
    },
    {
      "cell_type": "code",
      "source": [
        "[[j['phone'] for j in i['phones']] for i in data_about_people]"
      ],
      "metadata": {
        "colab": {
          "base_uri": "https://localhost:8080/"
        },
        "id": "V4Kbst938VP2",
        "outputId": "8e993ee8-2515-4ba8-e057-cdc79265fe64"
      },
      "execution_count": null,
      "outputs": [
        {
          "output_type": "execute_result",
          "data": {
            "text/plain": [
              "[['232-19-55', '+7 (916) 232-19-55'], ['111-19-55', '+7 (916) 445-19-55']]"
            ]
          },
          "metadata": {},
          "execution_count": 11
        }
      ]
    },
    {
      "cell_type": "markdown",
      "metadata": {
        "id": "C9ubzSAS4PUK"
      },
      "source": [
        "3. По данным из файла `addres-book-q.xml` сформировать список словарей с телефонами каждого из людей. "
      ]
    },
    {
      "cell_type": "code",
      "source": [
        "from bs4 import BeautifulSoup"
      ],
      "metadata": {
        "id": "2vMtRsuR-Emn"
      },
      "execution_count": null,
      "outputs": []
    },
    {
      "cell_type": "code",
      "source": [
        "content = open(\"addres-book-q.xml\",\"r\")\n",
        "soup = BeautifulSoup(content,'xml')\n",
        "\n",
        "result_list = []\n",
        "for address in soup.find_all('address'):\n",
        "    json_data_name = address.find(\"name\").get_text()\n",
        "    for phone in address.find_all('phone'):\n",
        "        phone_str = phone.get_text()\n",
        "        result_list.append({json_data_name: phone_str})\n",
        "\n",
        "result_list"
      ],
      "metadata": {
        "colab": {
          "base_uri": "https://localhost:8080/"
        },
        "id": "3JEi3H7G9Nkt",
        "outputId": "1902c988-6d42-4800-bf42-6f567b8adc3f"
      },
      "execution_count": null,
      "outputs": [
        {
          "output_type": "execute_result",
          "data": {
            "text/plain": [
              "[{'Aicha Barki': '+ (213) 6150 4015'},\n",
              " {'Aicha Barki': '+ (213) 2173 5247'},\n",
              " {'Francisco Domingos': '+ (244-2) 325 023'},\n",
              " {'Francisco Domingos': '+ (244-2) 325 023'},\n",
              " {'Maria Luisa': '+ (244) 4232 2836'},\n",
              " {'Abraao Chanda': '+ (244-2) 325 023'},\n",
              " {'Abraao Chanda': '+ (244-2) 325 023'},\n",
              " {'Beatriz Busaniche': '+ (54-11) 4784 1159'},\n",
              " {'Francesca Beddie': '+ (61-2) 6274 9500'},\n",
              " {'Francesca Beddie': '+ (61-2) 6274 9513'},\n",
              " {'Graham John Smith': '+ (61-3) 9807 4702'}]"
            ]
          },
          "metadata": {},
          "execution_count": 20
        }
      ]
    },
    {
      "cell_type": "markdown",
      "metadata": {
        "id": "QShPlRfo4PUK"
      },
      "source": [
        "## Лабораторная работа №4"
      ]
    },
    {
      "cell_type": "markdown",
      "metadata": {
        "id": "JLsFdQAX4PUL"
      },
      "source": [
        "### JSON"
      ]
    },
    {
      "cell_type": "code",
      "source": [
        "import json"
      ],
      "metadata": {
        "id": "zhuEqTB0_LgI"
      },
      "execution_count": null,
      "outputs": []
    },
    {
      "cell_type": "markdown",
      "metadata": {
        "id": "MX511Jj64PUM"
      },
      "source": [
        "1.1 Считайте файл `contributors_sample.json`. Воспользовавшись модулем `json`, преобразуйте содержимое файла в соответствующие объекты python. Выведите на экран информацию о первых 3 пользователях."
      ]
    },
    {
      "cell_type": "code",
      "source": [
        "with open('contributors_sample.json') as file:\n",
        "    json_data = json.load(file)\n",
        "\n",
        "for user in json_data[:3]:\n",
        "    print(user)"
      ],
      "metadata": {
        "colab": {
          "base_uri": "https://localhost:8080/"
        },
        "id": "gpsaqDBM_P0f",
        "outputId": "2e35f8cd-2185-4c57-eb29-600575b2a3dc"
      },
      "execution_count": null,
      "outputs": [
        {
          "output_type": "stream",
          "name": "stdout",
          "text": [
            "{'username': 'uhebert', 'name': 'Lindsey Nguyen', 'sex': 'F', 'address': '01261 Cameron Spring\\nTaylorfurt, AK 97791', 'mail': 'jsalazar@gmail.com', 'jobs': ['Energy engineer', 'Engineer, site', 'Environmental health practitioner', 'Biomedical scientist', 'Jewellery designer'], 'id': 35193}\n",
            "{'username': 'vickitaylor', 'name': 'Cheryl Lewis', 'sex': 'F', 'address': '66992 Welch Brooks\\nMarshallshire, ID 56004', 'mail': 'bhudson@gmail.com', 'jobs': ['Music therapist', 'Volunteer coordinator', 'Designer, interior/spatial'], 'id': 91970}\n",
            "{'username': 'sheilaadams', 'name': 'Julia Allen', 'sex': 'F', 'address': 'Unit 1632 Box 2971\\nDPO AE 23297', 'mail': 'darren44@yahoo.com', 'jobs': ['Management consultant', 'Engineer, structural', 'Lecturer, higher education', 'Theatre manager', 'Designer, textile'], 'id': 1848091}\n"
          ]
        }
      ]
    },
    {
      "cell_type": "code",
      "source": [
        "print(*[i for i in json_data[:3]], sep='\\n\\n')"
      ],
      "metadata": {
        "colab": {
          "base_uri": "https://localhost:8080/"
        },
        "id": "hMF-oCL3CD1R",
        "outputId": "e389adc2-b4e2-4366-f713-8444deb45e96"
      },
      "execution_count": null,
      "outputs": [
        {
          "output_type": "stream",
          "name": "stdout",
          "text": [
            "{'username': 'uhebert', 'name': 'Lindsey Nguyen', 'sex': 'F', 'address': '01261 Cameron Spring\\nTaylorfurt, AK 97791', 'mail': 'jsalazar@gmail.com', 'jobs': ['Energy engineer', 'Engineer, site', 'Environmental health practitioner', 'Biomedical scientist', 'Jewellery designer'], 'id': 35193}\n",
            "\n",
            "{'username': 'vickitaylor', 'name': 'Cheryl Lewis', 'sex': 'F', 'address': '66992 Welch Brooks\\nMarshallshire, ID 56004', 'mail': 'bhudson@gmail.com', 'jobs': ['Music therapist', 'Volunteer coordinator', 'Designer, interior/spatial'], 'id': 91970}\n",
            "\n",
            "{'username': 'sheilaadams', 'name': 'Julia Allen', 'sex': 'F', 'address': 'Unit 1632 Box 2971\\nDPO AE 23297', 'mail': 'darren44@yahoo.com', 'jobs': ['Management consultant', 'Engineer, structural', 'Lecturer, higher education', 'Theatre manager', 'Designer, textile'], 'id': 1848091}\n"
          ]
        }
      ]
    },
    {
      "cell_type": "markdown",
      "metadata": {
        "id": "pvL6MCJC4PUN"
      },
      "source": [
        "1.2 Выведите уникальные почтовые домены, содержащиеся в почтовых адресах людей"
      ]
    },
    {
      "cell_type": "code",
      "source": [
        "print(*set([i['mail'][i['mail'].find('@')+1:] for i in json_data]), sep='\\n\\n')"
      ],
      "metadata": {
        "colab": {
          "base_uri": "https://localhost:8080/"
        },
        "id": "P5znomc9_bDv",
        "outputId": "21b4c71e-8ca4-4932-f97b-45756c12cc0f"
      },
      "execution_count": null,
      "outputs": [
        {
          "output_type": "stream",
          "name": "stdout",
          "text": [
            "hotmail.com\n",
            "\n",
            "yahoo.com\n",
            "\n",
            "gmail.com\n"
          ]
        }
      ]
    },
    {
      "cell_type": "markdown",
      "metadata": {
        "id": "EA5Nv1M84PUO"
      },
      "source": [
        "1.3 Напишите функцию, которая по `json_dataname` ищет человека и выводит информацию о нем. Если пользователь с заданным `json_dataname` отсутствует, возбудите исключение `ValueError`"
      ]
    },
    {
      "cell_type": "code",
      "source": [
        "def search(username):\n",
        "    if username not in [i['username'] for i in json_data]:\n",
        "        raise ValueError('Нет такого пользователя!')\n",
        "    for i in json_data:\n",
        "        if i['username']==username:\n",
        "            return i\n",
        "            \n",
        "search(input('Введите имя\\n'))"
      ],
      "metadata": {
        "id": "jW9NvcsJCmLD"
      },
      "execution_count": null,
      "outputs": []
    },
    {
      "cell_type": "markdown",
      "metadata": {
        "id": "Dp6PPE574PUP"
      },
      "source": [
        "1.4 Посчитайте, сколько мужчин и женщин присутсвует в этом наборе данных."
      ]
    },
    {
      "cell_type": "code",
      "source": [
        "print(f\"Количество мужчин: {sum([1 if i['sex']=='M' else 0 for i in json_data])}\")\n",
        "print(f\"Количество женщин: {sum([1 if i['sex']=='F' else 0 for i in json_data])}\")"
      ],
      "metadata": {
        "colab": {
          "base_uri": "https://localhost:8080/"
        },
        "id": "dznqVMH_FFQY",
        "outputId": "5381f6ba-7b9f-4c3b-e9b0-bc1e0d89bd81"
      },
      "execution_count": null,
      "outputs": [
        {
          "output_type": "stream",
          "name": "stdout",
          "text": [
            "Количество мужчин: 2064\n"
          ]
        }
      ]
    },
    {
      "cell_type": "markdown",
      "metadata": {
        "id": "i-qY45p64PUP"
      },
      "source": [
        "1.5 Создайте `pd.DataFrame` `contributors`, имеющий столбцы `id`, `json_dataname` и `sex`."
      ]
    },
    {
      "cell_type": "code",
      "source": [
        "import pandas as pd\n",
        "import json\n",
        "\n",
        "# загружаем данные из файла\n",
        "with open('contributors_sample.json') as f:\n",
        "    data = json.load(f)\n",
        "\n",
        "# создаем список словарей\n",
        "contributors_list = []\n",
        "for contributor in data:\n",
        "    contributors_list.append({'id': contributor['id'], 'username': contributor['username'], 'sex': contributor['sex']})\n",
        "\n",
        "# создаем DataFrame\n",
        "contributors = pd.DataFrame(contributors_list, columns=['id', 'username', 'sex'])\n",
        "\n",
        "# выводим на экран\n",
        "print(contributors.head())"
      ],
      "metadata": {
        "id": "Td0RWi25IBPp"
      },
      "execution_count": null,
      "outputs": []
    },
    {
      "cell_type": "markdown",
      "metadata": {
        "id": "NiJTS87l4PUQ"
      },
      "source": [
        "1.6 Загрузите данные из файла `recipes_sample.csv` (__ЛР2__) в таблицу `recipes`. Объедините `recipes` с таблицей `contributors` с сохранением строк в том случае, если информация о человеке отсутствует в JSON-файле. Для скольких человек информация отсутствует? "
      ]
    },
    {
      "cell_type": "code",
      "source": [
        "# загрузка данных из файлов\n",
        "recipes = pd.read_csv('recipes_sample.csv')\n",
        "contributors = pd.read_json('contributors_sample.json')\n",
        "\n",
        "# объединение таблиц\n",
        "merged = pd.merge(recipes, contributors[['id', 'username']], left_on='contributor_id', right_on='id', how='left')\n",
        "\n",
        "# подсчет количества строк, в которых информация о человеке отсутствует\n",
        "missing_count = merged['username'].isna().sum()\n",
        "\n",
        "print(f'Количество строк, в которых информация о человеке отсутствует: {missing_count}')"
      ],
      "metadata": {
        "id": "E0s8jX0kPig1"
      },
      "execution_count": null,
      "outputs": []
    },
    {
      "cell_type": "markdown",
      "metadata": {
        "id": "Ui5E4X1b4PUQ"
      },
      "source": [
        "### pickle"
      ]
    },
    {
      "cell_type": "markdown",
      "metadata": {
        "id": "LMay5URS4PUR"
      },
      "source": [
        "2.1 На основе файла `contributors_sample.json` создайте словарь следующего вида: \n",
        "```\n",
        "{\n",
        "    должность: [список json_dataname людей, занимавших эту должность]\n",
        "}\n",
        "```"
      ]
    },
    {
      "cell_type": "code",
      "source": [
        "import json\n",
        "\n",
        "# Считываем данные из JSON-файла\n",
        "with open('contributors_sample.json', 'r') as f:\n",
        "    contributors = json.load(f)\n",
        "\n",
        "# Создаем словарь\n",
        "positions = {}\n",
        "for person in contributors:\n",
        "    for job in person['jobs']:\n",
        "        positions.setdefault(job, []).append(person['username'])\n",
        "\n",
        "# Выводим результаты\n",
        "for job, users in positions.items():\n",
        "    print(job + ':', users)"
      ],
      "metadata": {
        "id": "uWUeEGGlQs3z"
      },
      "execution_count": null,
      "outputs": []
    },
    {
      "cell_type": "markdown",
      "metadata": {
        "id": "4BgTPrP64PUR"
      },
      "source": [
        "2.2 Сохраните результаты в файл `job_people.pickle` и в файл `job_people.json` с использованием форматов pickle и JSON соответственно. Сравните объемы получившихся файлов. При сохранении в JSON укажите аргумент `indent`."
      ]
    },
    {
      "cell_type": "code",
      "source": [
        "import json\n",
        "import pickle\n",
        "\n",
        "# Считываем данные из JSON-файла\n",
        "with open('contributors_sample.json', 'r') as f:\n",
        "    contributors = json.load(f)\n",
        "\n",
        "# Создаем словарь\n",
        "positions = {}\n",
        "for person in contributors:\n",
        "    for job in person['jobs']:\n",
        "        positions.setdefault(job, []).append(person['username'])\n",
        "\n",
        "# Сохраняем в файл формата pickle\n",
        "with open('job_people.pickle', 'wb') as f:\n",
        "    pickle.dump(positions, f)\n",
        "\n",
        "# Сохраняем в файл формата JSON с отступами\n",
        "with open('job_people.json', 'w') as f:\n",
        "    json.dump(positions, f, indent=2)"
      ],
      "metadata": {
        "id": "FsAGWfhIPjCl"
      },
      "execution_count": null,
      "outputs": []
    },
    {
      "cell_type": "markdown",
      "metadata": {
        "id": "MPNbErYx4PUS"
      },
      "source": [
        "2.3 Считайте файл `job_people.pickle` и продемонстрируйте, что данные считались корректно. "
      ]
    },
    {
      "cell_type": "code",
      "source": [
        "\n",
        "import pickle\n",
        "\n",
        "# Читаем данные из файла job_people.pickle\n",
        "with open('job_people.pickle', 'rb') as f:\n",
        "    job_people = pickle.load(f)\n",
        "\n",
        "# Выводим результаты\n",
        "for job, users in job_people.items():\n",
        "    print(job + ':', users)"
      ],
      "metadata": {
        "id": "PkjgcRaCPjVJ"
      },
      "execution_count": null,
      "outputs": []
    },
    {
      "cell_type": "markdown",
      "metadata": {
        "id": "OVLs1ciQ4PUT"
      },
      "source": [
        "### XML"
      ]
    },
    {
      "cell_type": "markdown",
      "metadata": {
        "id": "MHe9TMEX4PUT"
      },
      "source": [
        "3.1 По данным файла `steps_sample.xml` сформируйте словарь с шагами по каждому рецепту вида `{id_рецепта: [\"шаг1\", \"шаг2\"]}`. Сохраните этот словарь в файл `steps_sample.json`"
      ]
    },
    {
      "cell_type": "code",
      "source": [
        "import xml.etree.ElementTree as ET\n",
        "import json\n",
        "\n",
        "# Чтение XML-файла\n",
        "tree = ET.parse('steps_sample.xml')\n",
        "root = tree.getroot()\n",
        "\n",
        "# Создание словаря с шагами по каждому рецепту\n",
        "steps_dict = {}\n",
        "for recipe in root.findall('recipe'):\n",
        "    recipe_id = recipe.find('id').text\n",
        "    steps = []\n",
        "    for step in recipe.find('steps').findall('step'):\n",
        "        steps.append(step.text)\n",
        "    steps_dict[recipe_id] = steps\n",
        "\n",
        "# Сохранение словаря в JSON-файл\n",
        "with open('steps_sample.json', 'w') as f:\n",
        "    json.dump(steps_dict, f)"
      ],
      "metadata": {
        "id": "a7Ry0cB-PjtE"
      },
      "execution_count": null,
      "outputs": []
    },
    {
      "cell_type": "markdown",
      "metadata": {
        "id": "UdC75Ymz4PUU"
      },
      "source": [
        "3.2 По данным файла `steps_sample.xml` сформируйте словарь следующего вида: `кол-во_шагов_в_рецепте: [список_id_рецептов]`"
      ]
    },
    {
      "cell_type": "code",
      "source": [
        "import xml.etree.ElementTree as ET\n",
        "\n",
        "# Парсинг XML-файла\n",
        "tree = ET.parse('steps_sample.xml')\n",
        "\n",
        "# Получение корневого элемента\n",
        "root = tree.getroot()\n",
        "\n",
        "# Создание словаря для хранения количества шагов в рецепте и списка рецептов\n",
        "steps_count = {}\n",
        "\n",
        "# Итерация по всем рецептам\n",
        "for recipe in root.findall('recipe'):\n",
        "    # Получение количества шагов\n",
        "    steps = recipe.findall('steps/step')\n",
        "    count = len(steps)\n",
        "    \n",
        "    # Добавление рецепта в соответствующий список\n",
        "    if count not in steps_count:\n",
        "        steps_count[count] = []\n",
        "    steps_count[count].append(recipe.find('id').text)\n",
        "\n",
        "# Вывод результата\n",
        "print(steps_count)"
      ],
      "metadata": {
        "id": "ABCqAwfOPkCV"
      },
      "execution_count": null,
      "outputs": []
    },
    {
      "cell_type": "markdown",
      "metadata": {
        "id": "J_hBDTfE4PUU"
      },
      "source": [
        "3.3 Получите список рецептов, в этапах выполнения которых есть информация о времени (часы или минуты). Для отбора подходящих рецептов обратите внимание на атрибуты соответствующих тэгов."
      ]
    },
    {
      "cell_type": "code",
      "source": [
        "import xml.etree.ElementTree as ET\n",
        "\n",
        "tree = ET.parse('steps_sample.xml')\n",
        "root = tree.getroot()\n",
        "\n",
        "recipes_with_time = []\n",
        "\n",
        "for recipe in root.findall('recipe'):\n",
        "    for step in recipe.find('steps').findall('step'):\n",
        "        if 'has_minutes' in step.attrib or 'has_degrees' in step.attrib:\n",
        "            recipes_with_time.append(recipe.find('id').text)\n",
        "            break\n",
        "\n",
        "print(recipes_with_time)"
      ],
      "metadata": {
        "id": "zRz_fq1lPkV6"
      },
      "execution_count": null,
      "outputs": []
    },
    {
      "cell_type": "markdown",
      "metadata": {
        "id": "W5J6J_NR4PUV"
      },
      "source": [
        "3.4 Загрузите данные из файла `recipes_sample.csv` (__ЛР2__) в таблицу `recipes`. Для строк, которые содержат пропуски в столбце `n_steps`, заполните этот столбец на основе файла  `steps_sample.xml`. Строки, в которых столбец `n_steps` заполнен, оставьте без изменений."
      ]
    },
    {
      "cell_type": "code",
      "source": [
        "import pandas as pd\n",
        "import xml.etree.ElementTree as ET\n",
        "\n",
        "# Загрузка данных из CSV файла в таблицу recipes\n",
        "recipes = pd.read_csv('recipes_sample.csv')\n",
        "\n",
        "# Выбор строк с пропусками в столбце n_steps\n",
        "missing_steps = recipes[recipes['n_steps'].isnull()]\n",
        "\n",
        "# Загрузка данных из XML файла\n",
        "tree = ET.parse('steps_sample.xml')\n",
        "root = tree.getroot()\n",
        "\n",
        "# Заполнение пропусков в столбце n_steps\n",
        "for recipe in root.findall('recipe'):\n",
        "    recipe_id = recipe.find('id').text\n",
        "    steps = recipe.findall('steps/step')\n",
        "    n_steps = len(steps)\n",
        "    if recipe_id in missing_steps['id'].values:\n",
        "        missing_steps.loc[missing_steps['id'] == recipe_id, 'n_steps'] = n_steps\n",
        "\n",
        "# Объединение таблиц recipes и missing_steps\n",
        "recipes = pd.concat([recipes[recipes['n_steps'].notnull()], missing_steps], sort=False)\n",
        "\n",
        "# Вывод таблицы\n",
        "print(recipes)"
      ],
      "metadata": {
        "id": "OHSEbjHgPkxG"
      },
      "execution_count": null,
      "outputs": []
    },
    {
      "cell_type": "markdown",
      "metadata": {
        "id": "RelgasAy4PUV"
      },
      "source": [
        "3.5 Проверьте, содержит ли столбец `n_steps` пропуски. Если нет, то преобразуйте его к целочисленному типу и сохраните результаты в файл `recipes_sample_with_filled_nsteps.csv`"
      ]
    },
    {
      "cell_type": "code",
      "execution_count": null,
      "metadata": {
        "id": "ZaBuxQdB4PUW"
      },
      "outputs": [],
      "source": [
        "import pandas as pd\n",
        "\n",
        "# загрузка данных\n",
        "recipes = pd.read_csv('recipes_sample.csv')\n",
        "\n",
        "# проверка на наличие пропущенных значений\n",
        "if recipes['n_steps'].isnull().values.any():\n",
        "    # если есть пропущенные значения, то заполняем их средним значением\n",
        "    mean_n_steps = recipes['n_steps'].mean()\n",
        "    recipes['n_steps'] = recipes['n_steps'].fillna(mean_n_steps)\n",
        "\n",
        "# преобразование столбца n_steps к целочисленному типу\n",
        "recipes['n_steps'] = recipes['n_steps'].astype(int)\n",
        "\n",
        "# сохранение результатов в файл\n",
        "recipes.to_csv('recipes_sample_with_filled_nsteps.csv', index=False)"
      ]
    }
  ],
  "metadata": {
    "kernelspec": {
      "display_name": "Python 3",
      "language": "python",
      "name": "python3"
    },
    "language_info": {
      "codemirror_mode": {
        "name": "ipython",
        "version": 3
      },
      "file_extension": ".py",
      "mimetype": "text/x-python",
      "name": "python",
      "nbconvert_exporter": "python",
      "pygments_lexer": "ipython3",
      "version": "3.7.6"
    },
    "colab": {
      "provenance": []
    }
  },
  "nbformat": 4,
  "nbformat_minor": 0
}